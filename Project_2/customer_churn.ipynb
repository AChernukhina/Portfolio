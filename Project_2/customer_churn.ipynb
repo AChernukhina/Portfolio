{
 "cells": [
  {
   "cell_type": "markdown",
   "metadata": {
    "toc": true
   },
   "source": [
    "<h1>Содержание<span class=\"tocSkip\"></span></h1>\n",
    "<div class=\"toc\"><ul class=\"toc-item\"><li><span><a href=\"#Подготовка-данных\" data-toc-modified-id=\"Подготовка-данных-1\"><span class=\"toc-item-num\">1&nbsp;&nbsp;</span>Подготовка данных</a></span></li><li><span><a href=\"#Исследование-задачи\" data-toc-modified-id=\"Исследование-задачи-2\"><span class=\"toc-item-num\">2&nbsp;&nbsp;</span>Исследование задачи</a></span></li><li><span><a href=\"#Борьба-с-дисбалансом\" data-toc-modified-id=\"Борьба-с-дисбалансом-3\"><span class=\"toc-item-num\">3&nbsp;&nbsp;</span>Борьба с дисбалансом</a></span><ul class=\"toc-item\"><li><span><a href=\"#Параметр-class_weight-для-борьбы-с-дисбалансом\" data-toc-modified-id=\"Параметр-class_weight-для-борьбы-с-дисбалансом-3.1\"><span class=\"toc-item-num\">3.1&nbsp;&nbsp;</span>Параметр class_weight для борьбы с дисбалансом</a></span></li><li><span><a href=\"#Уменьшение-выборки-для-борьбы-с-дисбалансом\" data-toc-modified-id=\"Уменьшение-выборки-для-борьбы-с-дисбалансом-3.2\"><span class=\"toc-item-num\">3.2&nbsp;&nbsp;</span>Уменьшение выборки для борьбы с дисбалансом</a></span></li></ul></li><li><span><a href=\"#Тестирование-модели\" data-toc-modified-id=\"Тестирование-модели-4\"><span class=\"toc-item-num\">4&nbsp;&nbsp;</span>Тестирование модели</a>"
   ]
  },
  {
   "cell_type": "markdown",
   "metadata": {},
   "source": [
    "# Отток клиентов"
   ]
  },
  {
   "cell_type": "markdown",
   "metadata": {},
   "source": [
    "Из «Бета-Банка» стали уходить клиенты. Каждый месяц. Немного, но заметно. Банковские маркетологи посчитали: сохранять текущих клиентов дешевле, чем привлекать новых.\n",
    "\n",
    "Нужно спрогнозировать, уйдёт клиент из банка в ближайшее время или нет. Вам предоставлены исторические данные о поведении клиентов и расторжении договоров с банком. \n",
    "\n",
    "Построим модель с значением *F1*-меры > 0.59.  \n",
    "\n",
    "Источник данных: [https://www.kaggle.com/barelydedicated/bank-customer-churn-modeling](https://www.kaggle.com/barelydedicated/bank-customer-churn-modeling)"
   ]
  },
  {
   "cell_type": "markdown",
   "metadata": {},
   "source": [
    "## Подготовка данных"
   ]
  },
  {
   "cell_type": "code",
   "execution_count": 1,
   "metadata": {},
   "outputs": [],
   "source": [
    "# импорт необходимых библиотек\n",
    "import pandas as pd\n",
    "import numpy as np\n",
    "import matplotlib.pyplot as plt\n",
    "import random\n",
    "import seaborn as sns\n",
    "import warnings\n",
    "from sklearn.model_selection import train_test_split\n",
    "from sklearn.preprocessing import StandardScaler\n",
    "from sklearn.linear_model import LogisticRegression\n",
    "from sklearn.model_selection import GridSearchCV\n",
    "from sklearn.ensemble import (\n",
    "    RandomForestClassifier,\n",
    "    GradientBoostingClassifier\n",
    ")\n",
    "from sklearn.metrics import (\n",
    "    accuracy_score,\n",
    "    roc_auc_score,\n",
    "    f1_score,\n",
    "    precision_score,\n",
    "    recall_score\n",
    ")\n",
    "from sklearn.dummy import DummyClassifier\n",
    "from sklearn.utils import shuffle\n",
    "from sklearn.inspection import permutation_importance"
   ]
  },
  {
   "cell_type": "code",
   "execution_count": 2,
   "metadata": {},
   "outputs": [],
   "source": [
    "# сбросим ограничение на количество выводимых столбцов, для просмотра всех столбцов\n",
    "pd.set_option('display.max_columns', None)"
   ]
  },
  {
   "cell_type": "code",
   "execution_count": 3,
   "metadata": {},
   "outputs": [],
   "source": [
    "# уберем экспонентациальные формы при выводе данных\n",
    "pd.set_option('display.float_format', '{:,.2f}'.format)"
   ]
  },
  {
   "cell_type": "code",
   "execution_count": 4,
   "metadata": {},
   "outputs": [],
   "source": [
    "# отключим некритические предупреждения\n",
    "warnings.filterwarnings(\"ignore\")"
   ]
  },
  {
   "cell_type": "code",
   "execution_count": 5,
   "metadata": {},
   "outputs": [],
   "source": [
    "# прочитаем файл и сохраним в df\n",
    "df = pd.read_csv('datasets/Churn.csv',index_col=0)"
   ]
  },
  {
   "cell_type": "code",
   "execution_count": 6,
   "metadata": {},
   "outputs": [
    {
     "data": {
      "text/html": [
       "<div>\n",
       "<style scoped>\n",
       "    .dataframe tbody tr th:only-of-type {\n",
       "        vertical-align: middle;\n",
       "    }\n",
       "\n",
       "    .dataframe tbody tr th {\n",
       "        vertical-align: top;\n",
       "    }\n",
       "\n",
       "    .dataframe thead th {\n",
       "        text-align: right;\n",
       "    }\n",
       "</style>\n",
       "<table border=\"1\" class=\"dataframe\">\n",
       "  <thead>\n",
       "    <tr style=\"text-align: right;\">\n",
       "      <th></th>\n",
       "      <th>CustomerId</th>\n",
       "      <th>Surname</th>\n",
       "      <th>CreditScore</th>\n",
       "      <th>Geography</th>\n",
       "      <th>Gender</th>\n",
       "      <th>Age</th>\n",
       "      <th>Tenure</th>\n",
       "      <th>Balance</th>\n",
       "      <th>NumOfProducts</th>\n",
       "      <th>HasCrCard</th>\n",
       "      <th>IsActiveMember</th>\n",
       "      <th>EstimatedSalary</th>\n",
       "      <th>Exited</th>\n",
       "    </tr>\n",
       "    <tr>\n",
       "      <th>RowNumber</th>\n",
       "      <th></th>\n",
       "      <th></th>\n",
       "      <th></th>\n",
       "      <th></th>\n",
       "      <th></th>\n",
       "      <th></th>\n",
       "      <th></th>\n",
       "      <th></th>\n",
       "      <th></th>\n",
       "      <th></th>\n",
       "      <th></th>\n",
       "      <th></th>\n",
       "      <th></th>\n",
       "    </tr>\n",
       "  </thead>\n",
       "  <tbody>\n",
       "    <tr>\n",
       "      <th>1</th>\n",
       "      <td>15634602</td>\n",
       "      <td>Hargrave</td>\n",
       "      <td>619</td>\n",
       "      <td>France</td>\n",
       "      <td>Female</td>\n",
       "      <td>42</td>\n",
       "      <td>2.00</td>\n",
       "      <td>0.00</td>\n",
       "      <td>1</td>\n",
       "      <td>1</td>\n",
       "      <td>1</td>\n",
       "      <td>101,348.88</td>\n",
       "      <td>1</td>\n",
       "    </tr>\n",
       "    <tr>\n",
       "      <th>2</th>\n",
       "      <td>15647311</td>\n",
       "      <td>Hill</td>\n",
       "      <td>608</td>\n",
       "      <td>Spain</td>\n",
       "      <td>Female</td>\n",
       "      <td>41</td>\n",
       "      <td>1.00</td>\n",
       "      <td>83,807.86</td>\n",
       "      <td>1</td>\n",
       "      <td>0</td>\n",
       "      <td>1</td>\n",
       "      <td>112,542.58</td>\n",
       "      <td>0</td>\n",
       "    </tr>\n",
       "    <tr>\n",
       "      <th>3</th>\n",
       "      <td>15619304</td>\n",
       "      <td>Onio</td>\n",
       "      <td>502</td>\n",
       "      <td>France</td>\n",
       "      <td>Female</td>\n",
       "      <td>42</td>\n",
       "      <td>8.00</td>\n",
       "      <td>159,660.80</td>\n",
       "      <td>3</td>\n",
       "      <td>1</td>\n",
       "      <td>0</td>\n",
       "      <td>113,931.57</td>\n",
       "      <td>1</td>\n",
       "    </tr>\n",
       "    <tr>\n",
       "      <th>4</th>\n",
       "      <td>15701354</td>\n",
       "      <td>Boni</td>\n",
       "      <td>699</td>\n",
       "      <td>France</td>\n",
       "      <td>Female</td>\n",
       "      <td>39</td>\n",
       "      <td>1.00</td>\n",
       "      <td>0.00</td>\n",
       "      <td>2</td>\n",
       "      <td>0</td>\n",
       "      <td>0</td>\n",
       "      <td>93,826.63</td>\n",
       "      <td>0</td>\n",
       "    </tr>\n",
       "    <tr>\n",
       "      <th>5</th>\n",
       "      <td>15737888</td>\n",
       "      <td>Mitchell</td>\n",
       "      <td>850</td>\n",
       "      <td>Spain</td>\n",
       "      <td>Female</td>\n",
       "      <td>43</td>\n",
       "      <td>2.00</td>\n",
       "      <td>125,510.82</td>\n",
       "      <td>1</td>\n",
       "      <td>1</td>\n",
       "      <td>1</td>\n",
       "      <td>79,084.10</td>\n",
       "      <td>0</td>\n",
       "    </tr>\n",
       "  </tbody>\n",
       "</table>\n",
       "</div>"
      ],
      "text/plain": [
       "           CustomerId   Surname  CreditScore Geography  Gender  Age  Tenure  \\\n",
       "RowNumber                                                                     \n",
       "1            15634602  Hargrave          619    France  Female   42    2.00   \n",
       "2            15647311      Hill          608     Spain  Female   41    1.00   \n",
       "3            15619304      Onio          502    France  Female   42    8.00   \n",
       "4            15701354      Boni          699    France  Female   39    1.00   \n",
       "5            15737888  Mitchell          850     Spain  Female   43    2.00   \n",
       "\n",
       "             Balance  NumOfProducts  HasCrCard  IsActiveMember  \\\n",
       "RowNumber                                                        \n",
       "1               0.00              1          1               1   \n",
       "2          83,807.86              1          0               1   \n",
       "3         159,660.80              3          1               0   \n",
       "4               0.00              2          0               0   \n",
       "5         125,510.82              1          1               1   \n",
       "\n",
       "           EstimatedSalary  Exited  \n",
       "RowNumber                           \n",
       "1               101,348.88       1  \n",
       "2               112,542.58       0  \n",
       "3               113,931.57       1  \n",
       "4                93,826.63       0  \n",
       "5                79,084.10       0  "
      ]
     },
     "execution_count": 6,
     "metadata": {},
     "output_type": "execute_result"
    }
   ],
   "source": [
    "# выведем первые 5 строк df\n",
    "df.head()"
   ]
  },
  {
   "cell_type": "code",
   "execution_count": 7,
   "metadata": {},
   "outputs": [
    {
     "name": "stdout",
     "output_type": "stream",
     "text": [
      "<class 'pandas.core.frame.DataFrame'>\n",
      "Int64Index: 10000 entries, 1 to 10000\n",
      "Data columns (total 13 columns):\n",
      " #   Column           Non-Null Count  Dtype  \n",
      "---  ------           --------------  -----  \n",
      " 0   CustomerId       10000 non-null  int64  \n",
      " 1   Surname          10000 non-null  object \n",
      " 2   CreditScore      10000 non-null  int64  \n",
      " 3   Geography        10000 non-null  object \n",
      " 4   Gender           10000 non-null  object \n",
      " 5   Age              10000 non-null  int64  \n",
      " 6   Tenure           9091 non-null   float64\n",
      " 7   Balance          10000 non-null  float64\n",
      " 8   NumOfProducts    10000 non-null  int64  \n",
      " 9   HasCrCard        10000 non-null  int64  \n",
      " 10  IsActiveMember   10000 non-null  int64  \n",
      " 11  EstimatedSalary  10000 non-null  float64\n",
      " 12  Exited           10000 non-null  int64  \n",
      "dtypes: float64(3), int64(7), object(3)\n",
      "memory usage: 1.1+ MB\n"
     ]
    }
   ],
   "source": [
    "# проверим общую информацию данных\n",
    "df.info()"
   ]
  },
  {
   "cell_type": "code",
   "execution_count": 8,
   "metadata": {},
   "outputs": [],
   "source": [
    "# приведем наименования столбцов к общему виду\n",
    "df.rename(columns = {'CustomerId':'Customer_id', 'CreditScore':'Credit_score', 'NumOfProducts':'Num_of_products', \n",
    "                     'HasCrCard':'Has_cr_card', 'IsActiveMember':'Is_active_member',\n",
    "                     'EstimatedSalary':'Estimated_salary'}, inplace = True )"
   ]
  },
  {
   "cell_type": "code",
   "execution_count": 9,
   "metadata": {},
   "outputs": [
    {
     "data": {
      "text/plain": [
       "['Customer_id',\n",
       " 'Surname',\n",
       " 'Credit_score',\n",
       " 'Geography',\n",
       " 'Gender',\n",
       " 'Age',\n",
       " 'Tenure',\n",
       " 'Balance',\n",
       " 'Num_of_products',\n",
       " 'Has_cr_card',\n",
       " 'Is_active_member',\n",
       " 'Estimated_salary',\n",
       " 'Exited']"
      ]
     },
     "execution_count": 9,
     "metadata": {},
     "output_type": "execute_result"
    }
   ],
   "source": [
    "df.columns.tolist()"
   ]
  },
  {
   "cell_type": "code",
   "execution_count": 10,
   "metadata": {},
   "outputs": [],
   "source": [
    "# удалим колонки Customer_id,Surname. Так как id и фамилия клиента совершенно не влияют на факт ухода клиента\n",
    "df.drop(columns=['Customer_id','Surname'],axis=1,inplace=True)"
   ]
  },
  {
   "cell_type": "code",
   "execution_count": 11,
   "metadata": {},
   "outputs": [
    {
     "data": {
      "text/plain": [
       "Credit_score          0\n",
       "Geography             0\n",
       "Gender                0\n",
       "Age                   0\n",
       "Balance               0\n",
       "Num_of_products       0\n",
       "Has_cr_card           0\n",
       "Is_active_member      0\n",
       "Estimated_salary      0\n",
       "Exited                0\n",
       "Tenure              909\n",
       "dtype: int64"
      ]
     },
     "execution_count": 11,
     "metadata": {},
     "output_type": "execute_result"
    }
   ],
   "source": [
    "# определим, в каких столбцах есть пропуски\n",
    "df.isna().sum().sort_values()"
   ]
  },
  {
   "cell_type": "code",
   "execution_count": 12,
   "metadata": {},
   "outputs": [
    {
     "data": {
      "text/html": [
       "<div>\n",
       "<style scoped>\n",
       "    .dataframe tbody tr th:only-of-type {\n",
       "        vertical-align: middle;\n",
       "    }\n",
       "\n",
       "    .dataframe tbody tr th {\n",
       "        vertical-align: top;\n",
       "    }\n",
       "\n",
       "    .dataframe thead th {\n",
       "        text-align: right;\n",
       "    }\n",
       "</style>\n",
       "<table border=\"1\" class=\"dataframe\">\n",
       "  <thead>\n",
       "    <tr style=\"text-align: right;\">\n",
       "      <th></th>\n",
       "      <th>Credit_score</th>\n",
       "      <th>Age</th>\n",
       "      <th>Tenure</th>\n",
       "      <th>Balance</th>\n",
       "      <th>Num_of_products</th>\n",
       "      <th>Has_cr_card</th>\n",
       "      <th>Is_active_member</th>\n",
       "      <th>Estimated_salary</th>\n",
       "      <th>Exited</th>\n",
       "      <th>Geography_Germany</th>\n",
       "      <th>Geography_Spain</th>\n",
       "      <th>Gender_Male</th>\n",
       "    </tr>\n",
       "    <tr>\n",
       "      <th>RowNumber</th>\n",
       "      <th></th>\n",
       "      <th></th>\n",
       "      <th></th>\n",
       "      <th></th>\n",
       "      <th></th>\n",
       "      <th></th>\n",
       "      <th></th>\n",
       "      <th></th>\n",
       "      <th></th>\n",
       "      <th></th>\n",
       "      <th></th>\n",
       "      <th></th>\n",
       "    </tr>\n",
       "  </thead>\n",
       "  <tbody>\n",
       "    <tr>\n",
       "      <th>1</th>\n",
       "      <td>619</td>\n",
       "      <td>42</td>\n",
       "      <td>2.00</td>\n",
       "      <td>0.00</td>\n",
       "      <td>1</td>\n",
       "      <td>1</td>\n",
       "      <td>1</td>\n",
       "      <td>101,348.88</td>\n",
       "      <td>1</td>\n",
       "      <td>0</td>\n",
       "      <td>0</td>\n",
       "      <td>0</td>\n",
       "    </tr>\n",
       "    <tr>\n",
       "      <th>2</th>\n",
       "      <td>608</td>\n",
       "      <td>41</td>\n",
       "      <td>1.00</td>\n",
       "      <td>83,807.86</td>\n",
       "      <td>1</td>\n",
       "      <td>0</td>\n",
       "      <td>1</td>\n",
       "      <td>112,542.58</td>\n",
       "      <td>0</td>\n",
       "      <td>0</td>\n",
       "      <td>1</td>\n",
       "      <td>0</td>\n",
       "    </tr>\n",
       "    <tr>\n",
       "      <th>3</th>\n",
       "      <td>502</td>\n",
       "      <td>42</td>\n",
       "      <td>8.00</td>\n",
       "      <td>159,660.80</td>\n",
       "      <td>3</td>\n",
       "      <td>1</td>\n",
       "      <td>0</td>\n",
       "      <td>113,931.57</td>\n",
       "      <td>1</td>\n",
       "      <td>0</td>\n",
       "      <td>0</td>\n",
       "      <td>0</td>\n",
       "    </tr>\n",
       "    <tr>\n",
       "      <th>4</th>\n",
       "      <td>699</td>\n",
       "      <td>39</td>\n",
       "      <td>1.00</td>\n",
       "      <td>0.00</td>\n",
       "      <td>2</td>\n",
       "      <td>0</td>\n",
       "      <td>0</td>\n",
       "      <td>93,826.63</td>\n",
       "      <td>0</td>\n",
       "      <td>0</td>\n",
       "      <td>0</td>\n",
       "      <td>0</td>\n",
       "    </tr>\n",
       "    <tr>\n",
       "      <th>5</th>\n",
       "      <td>850</td>\n",
       "      <td>43</td>\n",
       "      <td>2.00</td>\n",
       "      <td>125,510.82</td>\n",
       "      <td>1</td>\n",
       "      <td>1</td>\n",
       "      <td>1</td>\n",
       "      <td>79,084.10</td>\n",
       "      <td>0</td>\n",
       "      <td>0</td>\n",
       "      <td>1</td>\n",
       "      <td>0</td>\n",
       "    </tr>\n",
       "  </tbody>\n",
       "</table>\n",
       "</div>"
      ],
      "text/plain": [
       "           Credit_score  Age  Tenure    Balance  Num_of_products  Has_cr_card  \\\n",
       "RowNumber                                                                       \n",
       "1                   619   42    2.00       0.00                1            1   \n",
       "2                   608   41    1.00  83,807.86                1            0   \n",
       "3                   502   42    8.00 159,660.80                3            1   \n",
       "4                   699   39    1.00       0.00                2            0   \n",
       "5                   850   43    2.00 125,510.82                1            1   \n",
       "\n",
       "           Is_active_member  Estimated_salary  Exited  Geography_Germany  \\\n",
       "RowNumber                                                                  \n",
       "1                         1        101,348.88       1                  0   \n",
       "2                         1        112,542.58       0                  0   \n",
       "3                         0        113,931.57       1                  0   \n",
       "4                         0         93,826.63       0                  0   \n",
       "5                         1         79,084.10       0                  0   \n",
       "\n",
       "           Geography_Spain  Gender_Male  \n",
       "RowNumber                                \n",
       "1                        0            0  \n",
       "2                        1            0  \n",
       "3                        0            0  \n",
       "4                        0            0  \n",
       "5                        1            0  "
      ]
     },
     "execution_count": 12,
     "metadata": {},
     "output_type": "execute_result"
    }
   ],
   "source": [
    "# Применим one hot encoding к датафрейму, избежав \"ловушку фиктивных признаков\"\n",
    "df_ohe = pd.get_dummies(df, drop_first=True)\n",
    "df_ohe.head()"
   ]
  },
  {
   "cell_type": "code",
   "execution_count": 13,
   "metadata": {},
   "outputs": [
    {
     "data": {
      "text/plain": [
       "1.00     952\n",
       "2.00     950\n",
       "8.00     933\n",
       "3.00     928\n",
       "5.00     927\n",
       "7.00     925\n",
       "4.00     885\n",
       "9.00     882\n",
       "6.00     881\n",
       "10.00    446\n",
       "0.00     382\n",
       "Name: Tenure, dtype: int64"
      ]
     },
     "execution_count": 13,
     "metadata": {},
     "output_type": "execute_result"
    }
   ],
   "source": [
    "# посмотрим значения по столбцу Tenure\n",
    "df_ohe['Tenure'].value_counts()"
   ]
  },
  {
   "cell_type": "code",
   "execution_count": 14,
   "metadata": {},
   "outputs": [
    {
     "data": {
      "image/png": "[encoded data removed]",
      "text/plain": [
       "<Figure size 432x288 with 1 Axes>"
      ]
     },
     "metadata": {
      "needs_background": "light"
     },
     "output_type": "display_data"
    }
   ],
   "source": [
    "# построим гистограмму по столбцу Tenure\n",
    "df_ohe['Tenure'].hist(bins=11)\n",
    "plt.show()"
   ]
  },
  {
   "cell_type": "markdown",
   "metadata": {},
   "source": [
    "В связи с тем, что природа пропусков неизвестна - заполним медианным значением."
   ]
  },
  {
   "cell_type": "code",
   "execution_count": 15,
   "metadata": {},
   "outputs": [],
   "source": [
    "df_ohe['Tenure'].fillna(df_ohe['Tenure'].median(), inplace = True)"
   ]
  },
  {
   "cell_type": "code",
   "execution_count": 16,
   "metadata": {},
   "outputs": [
    {
     "data": {
      "text/plain": [
       "5.00     1836\n",
       "1.00      952\n",
       "2.00      950\n",
       "8.00      933\n",
       "3.00      928\n",
       "7.00      925\n",
       "4.00      885\n",
       "9.00      882\n",
       "6.00      881\n",
       "10.00     446\n",
       "0.00      382\n",
       "Name: Tenure, dtype: int64"
      ]
     },
     "execution_count": 16,
     "metadata": {},
     "output_type": "execute_result"
    }
   ],
   "source": [
    "df_ohe['Tenure'].value_counts()"
   ]
  },
  {
   "cell_type": "code",
   "execution_count": 17,
   "metadata": {},
   "outputs": [
    {
     "data": {
      "image/png": "[encoded data removed]",
      "text/plain": [
       "<Figure size 432x288 with 1 Axes>"
      ]
     },
     "metadata": {
      "needs_background": "light"
     },
     "output_type": "display_data"
    }
   ],
   "source": [
    "# Посмотрим повторно гистограмму по столбцу Tenure\n",
    "df_ohe['Tenure'].hist(bins=11)\n",
    "plt.show()"
   ]
  },
  {
   "cell_type": "code",
   "execution_count": 18,
   "metadata": {},
   "outputs": [
    {
     "data": {
      "text/plain": [
       "Credit_score         0\n",
       "Age                  0\n",
       "Tenure               0\n",
       "Balance              0\n",
       "Num_of_products      0\n",
       "Has_cr_card          0\n",
       "Is_active_member     0\n",
       "Estimated_salary     0\n",
       "Exited               0\n",
       "Geography_Germany    0\n",
       "Geography_Spain      0\n",
       "Gender_Male          0\n",
       "dtype: int64"
      ]
     },
     "execution_count": 18,
     "metadata": {},
     "output_type": "execute_result"
    }
   ],
   "source": [
    "# Проверим пропущенные значения\n",
    "df_ohe.isna().sum()"
   ]
  },
  {
   "cell_type": "code",
   "execution_count": 19,
   "metadata": {},
   "outputs": [],
   "source": [
    "# Создадим список с числовыми столбцами\n",
    "numeric = ['Credit_score','Age','Balance','Num_of_products','Estimated_salary','Tenure']"
   ]
  },
  {
   "cell_type": "code",
   "execution_count": 20,
   "metadata": {},
   "outputs": [
    {
     "data": {
      "text/html": [
       "<style type=\"text/css\">\n",
       "#T_ae889_row0_col0, #T_ae889_row0_col1, #T_ae889_row0_col2, #T_ae889_row0_col3, #T_ae889_row0_col4, #T_ae889_row0_col5, #T_ae889_row1_col0, #T_ae889_row1_col1, #T_ae889_row1_col2, #T_ae889_row1_col3, #T_ae889_row1_col4, #T_ae889_row1_col5, #T_ae889_row2_col0, #T_ae889_row2_col1, #T_ae889_row2_col2, #T_ae889_row2_col3, #T_ae889_row2_col4, #T_ae889_row2_col5, #T_ae889_row3_col0, #T_ae889_row3_col1, #T_ae889_row3_col2, #T_ae889_row3_col3, #T_ae889_row3_col4, #T_ae889_row3_col5, #T_ae889_row4_col0, #T_ae889_row4_col1, #T_ae889_row4_col2, #T_ae889_row4_col3, #T_ae889_row4_col4, #T_ae889_row4_col5, #T_ae889_row5_col0, #T_ae889_row5_col1, #T_ae889_row5_col2, #T_ae889_row5_col3, #T_ae889_row5_col4, #T_ae889_row5_col5 {\n",
       "  color: black;\n",
       "}\n",
       "</style>\n",
       "<table id=\"T_ae889\">\n",
       "  <thead>\n",
       "    <tr>\n",
       "      <th class=\"blank level0\" >&nbsp;</th>\n",
       "      <th id=\"T_ae889_level0_col0\" class=\"col_heading level0 col0\" >Credit_score</th>\n",
       "      <th id=\"T_ae889_level0_col1\" class=\"col_heading level0 col1\" >Age</th>\n",
       "      <th id=\"T_ae889_level0_col2\" class=\"col_heading level0 col2\" >Balance</th>\n",
       "      <th id=\"T_ae889_level0_col3\" class=\"col_heading level0 col3\" >Num_of_products</th>\n",
       "      <th id=\"T_ae889_level0_col4\" class=\"col_heading level0 col4\" >Estimated_salary</th>\n",
       "      <th id=\"T_ae889_level0_col5\" class=\"col_heading level0 col5\" >Tenure</th>\n",
       "    </tr>\n",
       "  </thead>\n",
       "  <tbody>\n",
       "    <tr>\n",
       "      <th id=\"T_ae889_level0_row0\" class=\"row_heading level0 row0\" >Credit_score</th>\n",
       "      <td id=\"T_ae889_row0_col0\" class=\"data row0 col0\" >1.000000</td>\n",
       "      <td id=\"T_ae889_row0_col1\" class=\"data row0 col1\" >-0.003965</td>\n",
       "      <td id=\"T_ae889_row0_col2\" class=\"data row0 col2\" >0.006268</td>\n",
       "      <td id=\"T_ae889_row0_col3\" class=\"data row0 col3\" >0.012238</td>\n",
       "      <td id=\"T_ae889_row0_col4\" class=\"data row0 col4\" >-0.001384</td>\n",
       "      <td id=\"T_ae889_row0_col5\" class=\"data row0 col5\" >-0.000060</td>\n",
       "    </tr>\n",
       "    <tr>\n",
       "      <th id=\"T_ae889_level0_row1\" class=\"row_heading level0 row1\" >Age</th>\n",
       "      <td id=\"T_ae889_row1_col0\" class=\"data row1 col0\" >-0.003965</td>\n",
       "      <td id=\"T_ae889_row1_col1\" class=\"data row1 col1\" >1.000000</td>\n",
       "      <td id=\"T_ae889_row1_col2\" class=\"data row1 col2\" >0.028308</td>\n",
       "      <td id=\"T_ae889_row1_col3\" class=\"data row1 col3\" >-0.030680</td>\n",
       "      <td id=\"T_ae889_row1_col4\" class=\"data row1 col4\" >-0.007201</td>\n",
       "      <td id=\"T_ae889_row1_col5\" class=\"data row1 col5\" >-0.012606</td>\n",
       "    </tr>\n",
       "    <tr>\n",
       "      <th id=\"T_ae889_level0_row2\" class=\"row_heading level0 row2\" >Balance</th>\n",
       "      <td id=\"T_ae889_row2_col0\" class=\"data row2 col0\" >0.006268</td>\n",
       "      <td id=\"T_ae889_row2_col1\" class=\"data row2 col1\" >0.028308</td>\n",
       "      <td id=\"T_ae889_row2_col2\" class=\"data row2 col2\" >1.000000</td>\n",
       "      <td id=\"T_ae889_row2_col3\" class=\"data row2 col3\" >-0.304180</td>\n",
       "      <td id=\"T_ae889_row2_col4\" class=\"data row2 col4\" >0.012797</td>\n",
       "      <td id=\"T_ae889_row2_col5\" class=\"data row2 col5\" >-0.007535</td>\n",
       "    </tr>\n",
       "    <tr>\n",
       "      <th id=\"T_ae889_level0_row3\" class=\"row_heading level0 row3\" >Num_of_products</th>\n",
       "      <td id=\"T_ae889_row3_col0\" class=\"data row3 col0\" >0.012238</td>\n",
       "      <td id=\"T_ae889_row3_col1\" class=\"data row3 col1\" >-0.030680</td>\n",
       "      <td id=\"T_ae889_row3_col2\" class=\"data row3 col2\" >-0.304180</td>\n",
       "      <td id=\"T_ae889_row3_col3\" class=\"data row3 col3\" >1.000000</td>\n",
       "      <td id=\"T_ae889_row3_col4\" class=\"data row3 col4\" >0.014204</td>\n",
       "      <td id=\"T_ae889_row3_col5\" class=\"data row3 col5\" >0.011409</td>\n",
       "    </tr>\n",
       "    <tr>\n",
       "      <th id=\"T_ae889_level0_row4\" class=\"row_heading level0 row4\" >Estimated_salary</th>\n",
       "      <td id=\"T_ae889_row4_col0\" class=\"data row4 col0\" >-0.001384</td>\n",
       "      <td id=\"T_ae889_row4_col1\" class=\"data row4 col1\" >-0.007201</td>\n",
       "      <td id=\"T_ae889_row4_col2\" class=\"data row4 col2\" >0.012797</td>\n",
       "      <td id=\"T_ae889_row4_col3\" class=\"data row4 col3\" >0.014204</td>\n",
       "      <td id=\"T_ae889_row4_col4\" class=\"data row4 col4\" >1.000000</td>\n",
       "      <td id=\"T_ae889_row4_col5\" class=\"data row4 col5\" >0.010049</td>\n",
       "    </tr>\n",
       "    <tr>\n",
       "      <th id=\"T_ae889_level0_row5\" class=\"row_heading level0 row5\" >Tenure</th>\n",
       "      <td id=\"T_ae889_row5_col0\" class=\"data row5 col0\" >-0.000060</td>\n",
       "      <td id=\"T_ae889_row5_col1\" class=\"data row5 col1\" >-0.012606</td>\n",
       "      <td id=\"T_ae889_row5_col2\" class=\"data row5 col2\" >-0.007535</td>\n",
       "      <td id=\"T_ae889_row5_col3\" class=\"data row5 col3\" >0.011409</td>\n",
       "      <td id=\"T_ae889_row5_col4\" class=\"data row5 col4\" >0.010049</td>\n",
       "      <td id=\"T_ae889_row5_col5\" class=\"data row5 col5\" >1.000000</td>\n",
       "    </tr>\n",
       "  </tbody>\n",
       "</table>\n"
      ],
      "text/plain": [
       "<pandas.io.formats.style.Styler at 0x7fea69e0c910>"
      ]
     },
     "execution_count": 20,
     "metadata": {},
     "output_type": "execute_result"
    }
   ],
   "source": [
    "# посмотрим корреляцию факторов\n",
    "df_ohe.loc[:,numeric].corr().style.applymap(lambda x: f\"color: {'red' if (abs(x) > 0.5  and x !=1) else 'black'}\")"
   ]
  },
  {
   "cell_type": "markdown",
   "metadata": {},
   "source": [
    "Корреляции между числовыми столбцами не обнаружено, самое больше значение 0,3 это корреляция между Количеством продуктов и балансом на счете."
   ]
  },
  {
   "cell_type": "code",
   "execution_count": 21,
   "metadata": {},
   "outputs": [
    {
     "data": {
      "text/html": [
       "<div>\n",
       "<style scoped>\n",
       "    .dataframe tbody tr th:only-of-type {\n",
       "        vertical-align: middle;\n",
       "    }\n",
       "\n",
       "    .dataframe tbody tr th {\n",
       "        vertical-align: top;\n",
       "    }\n",
       "\n",
       "    .dataframe thead th {\n",
       "        text-align: right;\n",
       "    }\n",
       "</style>\n",
       "<table border=\"1\" class=\"dataframe\">\n",
       "  <thead>\n",
       "    <tr style=\"text-align: right;\">\n",
       "      <th></th>\n",
       "      <th>Credit_score</th>\n",
       "      <th>Age</th>\n",
       "      <th>Balance</th>\n",
       "      <th>Num_of_products</th>\n",
       "      <th>Estimated_salary</th>\n",
       "      <th>Tenure</th>\n",
       "    </tr>\n",
       "  </thead>\n",
       "  <tbody>\n",
       "    <tr>\n",
       "      <th>count</th>\n",
       "      <td>10,000.00</td>\n",
       "      <td>10,000.00</td>\n",
       "      <td>10,000.00</td>\n",
       "      <td>10,000.00</td>\n",
       "      <td>10,000.00</td>\n",
       "      <td>10,000.00</td>\n",
       "    </tr>\n",
       "    <tr>\n",
       "      <th>mean</th>\n",
       "      <td>650.53</td>\n",
       "      <td>38.92</td>\n",
       "      <td>76,485.89</td>\n",
       "      <td>1.53</td>\n",
       "      <td>100,090.24</td>\n",
       "      <td>5.00</td>\n",
       "    </tr>\n",
       "    <tr>\n",
       "      <th>std</th>\n",
       "      <td>96.65</td>\n",
       "      <td>10.49</td>\n",
       "      <td>62,397.41</td>\n",
       "      <td>0.58</td>\n",
       "      <td>57,510.49</td>\n",
       "      <td>2.76</td>\n",
       "    </tr>\n",
       "    <tr>\n",
       "      <th>min</th>\n",
       "      <td>350.00</td>\n",
       "      <td>18.00</td>\n",
       "      <td>0.00</td>\n",
       "      <td>1.00</td>\n",
       "      <td>11.58</td>\n",
       "      <td>0.00</td>\n",
       "    </tr>\n",
       "    <tr>\n",
       "      <th>25%</th>\n",
       "      <td>584.00</td>\n",
       "      <td>32.00</td>\n",
       "      <td>0.00</td>\n",
       "      <td>1.00</td>\n",
       "      <td>51,002.11</td>\n",
       "      <td>3.00</td>\n",
       "    </tr>\n",
       "    <tr>\n",
       "      <th>50%</th>\n",
       "      <td>652.00</td>\n",
       "      <td>37.00</td>\n",
       "      <td>97,198.54</td>\n",
       "      <td>1.00</td>\n",
       "      <td>100,193.91</td>\n",
       "      <td>5.00</td>\n",
       "    </tr>\n",
       "    <tr>\n",
       "      <th>75%</th>\n",
       "      <td>718.00</td>\n",
       "      <td>44.00</td>\n",
       "      <td>127,644.24</td>\n",
       "      <td>2.00</td>\n",
       "      <td>149,388.25</td>\n",
       "      <td>7.00</td>\n",
       "    </tr>\n",
       "    <tr>\n",
       "      <th>max</th>\n",
       "      <td>850.00</td>\n",
       "      <td>92.00</td>\n",
       "      <td>250,898.09</td>\n",
       "      <td>4.00</td>\n",
       "      <td>199,992.48</td>\n",
       "      <td>10.00</td>\n",
       "    </tr>\n",
       "  </tbody>\n",
       "</table>\n",
       "</div>"
      ],
      "text/plain": [
       "       Credit_score       Age    Balance  Num_of_products  Estimated_salary  \\\n",
       "count     10,000.00 10,000.00  10,000.00        10,000.00         10,000.00   \n",
       "mean         650.53     38.92  76,485.89             1.53        100,090.24   \n",
       "std           96.65     10.49  62,397.41             0.58         57,510.49   \n",
       "min          350.00     18.00       0.00             1.00             11.58   \n",
       "25%          584.00     32.00       0.00             1.00         51,002.11   \n",
       "50%          652.00     37.00  97,198.54             1.00        100,193.91   \n",
       "75%          718.00     44.00 127,644.24             2.00        149,388.25   \n",
       "max          850.00     92.00 250,898.09             4.00        199,992.48   \n",
       "\n",
       "         Tenure  \n",
       "count 10,000.00  \n",
       "mean       5.00  \n",
       "std        2.76  \n",
       "min        0.00  \n",
       "25%        3.00  \n",
       "50%        5.00  \n",
       "75%        7.00  \n",
       "max       10.00  "
      ]
     },
     "execution_count": 21,
     "metadata": {},
     "output_type": "execute_result"
    }
   ],
   "source": [
    "# Проверим наличие аномальных значений по числовым столбцам\n",
    "df_ohe[numeric].describe()"
   ]
  },
  {
   "cell_type": "markdown",
   "metadata": {},
   "source": [
    "**Описание данных:** \n",
    "- RowNumber — индекс строки в данных\n",
    "- Customer_id — уникальный идентификатор клиента\n",
    "- Surname — фамилия\n",
    "- Credit_score — кредитный рейтинг\n",
    "- Geography — страна проживания\n",
    "- Gender — пол\n",
    "- Age — возраст\n",
    "- Tenure — сколько лет человек является клиентом банка\n",
    "- Balance — баланс на счёте\n",
    "- Num_of_products — количество продуктов банка, используемых клиентом\n",
    "- Has_cr_card — наличие кредитной карты\n",
    "- Is_active_member — активность клиента\n",
    "- Estimated_salary — предполагаемая зарплата\n",
    "\n",
    "**Целевой признак:** \n",
    "- Exited — факт ухода клиента\n",
    "\n",
    "**Выводы:**\n",
    "\n",
    "Нам предоставлены исторические данные о поведении клиентов и расторжении договоров с банком. Всего в таблице 13 столбцов и 10 000 строк. Привели наименования столбцов к змеиному регистру. Для корректного анализа заменили пропуски в столбце Tenure медианой. Применили One hot encoding к датафрейму, для избежания \"ловушки фиктивных признаков\". Удалили колонки Customer_id, Surname - так как эти данные не влияют на факт ухода клиента из банка. Корреляции между числовыми столбцами не обнаружено, все числовые столбцы оставляем для обучения модели. "
   ]
  },
  {
   "cell_type": "markdown",
   "metadata": {},
   "source": [
    "## Исследование задачи"
   ]
  },
  {
   "cell_type": "code",
   "execution_count": 22,
   "metadata": {},
   "outputs": [],
   "source": [
    "# Выделем целевой столбец\n",
    "target = df_ohe['Exited']"
   ]
  },
  {
   "cell_type": "code",
   "execution_count": 23,
   "metadata": {},
   "outputs": [],
   "source": [
    "# Выделем датафрейм признаков  \n",
    "features = df_ohe.drop('Exited', axis=1)"
   ]
  },
  {
   "cell_type": "code",
   "execution_count": 24,
   "metadata": {},
   "outputs": [],
   "source": [
    "# разделим все данные на тестовую и обучающую выборку\n",
    "# В связи с применением GridSearchCV выделять валидационную выборку отдельно нет необходимости\n",
    "features_train, features_test, target_train, target_test = train_test_split(\n",
    "    features, target, test_size=0.25, random_state=12345)"
   ]
  },
  {
   "cell_type": "code",
   "execution_count": 25,
   "metadata": {},
   "outputs": [
    {
     "name": "stdout",
     "output_type": "stream",
     "text": [
      "(7500, 11)\n",
      "(2500, 11)\n"
     ]
    }
   ],
   "source": [
    "# Нормируем числовые данные, используя StandardScaler\n",
    "scaler = StandardScaler()\n",
    "scaler.fit(features_train[numeric])\n",
    "features_train[numeric] = scaler.transform(features_train[numeric])\n",
    "features_test[numeric] = scaler.transform(features_test[numeric])\n",
    "\n",
    "print(features_train.shape)\n",
    "print(features_test.shape)"
   ]
  },
  {
   "cell_type": "code",
   "execution_count": 26,
   "metadata": {},
   "outputs": [
    {
     "data": {
      "text/plain": [
       "((7963, 11), (2037, 11))"
      ]
     },
     "execution_count": 26,
     "metadata": {},
     "output_type": "execute_result"
    }
   ],
   "source": [
    "# Посмотрим количество объектов отрицательного и положительно класса\n",
    "features[target == 0].shape, features[target == 1].shape"
   ]
  },
  {
   "cell_type": "markdown",
   "metadata": {},
   "source": [
    "Наблюдается дисбаланс классов, объектов отрицательного класса почти в 4 раза больше, чем объектов положительного. Рассчитаем базовые модели на несбалансированных данных."
   ]
  },
  {
   "cell_type": "code",
   "execution_count": 27,
   "metadata": {},
   "outputs": [
    {
     "name": "stdout",
     "output_type": "stream",
     "text": [
      "F1: 0.2948539638386648\n",
      "ROC_auc: 0.5792180923164728\n"
     ]
    }
   ],
   "source": [
    "# Обучим базовую модель \"Логистическая регрессия\" и посчитаем метрики на тестовой выборке\n",
    "model_base_lgr = LogisticRegression(random_state=12345, solver='liblinear')\n",
    "model_base_lgr.fit(features_train, target_train)\n",
    "predicted_test = model_base_lgr.predict(features_test)\n",
    "print(\"F1:\", f1_score(target_test, predicted_test))\n",
    "print(\"ROC_auc:\", roc_auc_score(target_test, predicted_test))"
   ]
  },
  {
   "cell_type": "code",
   "execution_count": 28,
   "metadata": {},
   "outputs": [
    {
     "data": {
      "text/html": [
       "<style>#sk-container-id-1 {color: black;background-color: white;}#sk-container-id-1 pre{padding: 0;}#sk-container-id-1 div.sk-toggleable {background-color: white;}#sk-container-id-1 label.sk-toggleable__label {cursor: pointer;display: block;width: 100%;margin-bottom: 0;padding: 0.3em;box-sizing: border-box;text-align: center;}#sk-container-id-1 label.sk-toggleable__label-arrow:before {content: \"▸\";float: left;margin-right: 0.25em;color: #696969;}#sk-container-id-1 label.sk-toggleable__label-arrow:hover:before {color: black;}#sk-container-id-1 div.sk-estimator:hover label.sk-toggleable__label-arrow:before {color: black;}#sk-container-id-1 div.sk-toggleable__content {max-height: 0;max-width: 0;overflow: hidden;text-align: left;background-color: #f0f8ff;}#sk-container-id-1 div.sk-toggleable__content pre {margin: 0.2em;color: black;border-radius: 0.25em;background-color: #f0f8ff;}#sk-container-id-1 input.sk-toggleable__control:checked~div.sk-toggleable__content {max-height: 200px;max-width: 100%;overflow: auto;}#sk-container-id-1 input.sk-toggleable__control:checked~label.sk-toggleable__label-arrow:before {content: \"▾\";}#sk-container-id-1 div.sk-estimator input.sk-toggleable__control:checked~label.sk-toggleable__label {background-color: #d4ebff;}#sk-container-id-1 div.sk-label input.sk-toggleable__control:checked~label.sk-toggleable__label {background-color: #d4ebff;}#sk-container-id-1 input.sk-hidden--visually {border: 0;clip: rect(1px 1px 1px 1px);clip: rect(1px, 1px, 1px, 1px);height: 1px;margin: -1px;overflow: hidden;padding: 0;position: absolute;width: 1px;}#sk-container-id-1 div.sk-estimator {font-family: monospace;background-color: #f0f8ff;border: 1px dotted black;border-radius: 0.25em;box-sizing: border-box;margin-bottom: 0.5em;}#sk-container-id-1 div.sk-estimator:hover {background-color: #d4ebff;}#sk-container-id-1 div.sk-parallel-item::after {content: \"\";width: 100%;border-bottom: 1px solid gray;flex-grow: 1;}#sk-container-id-1 div.sk-label:hover label.sk-toggleable__label {background-color: #d4ebff;}#sk-container-id-1 div.sk-serial::before {content: \"\";position: absolute;border-left: 1px solid gray;box-sizing: border-box;top: 0;bottom: 0;left: 50%;z-index: 0;}#sk-container-id-1 div.sk-serial {display: flex;flex-direction: column;align-items: center;background-color: white;padding-right: 0.2em;padding-left: 0.2em;position: relative;}#sk-container-id-1 div.sk-item {position: relative;z-index: 1;}#sk-container-id-1 div.sk-parallel {display: flex;align-items: stretch;justify-content: center;background-color: white;position: relative;}#sk-container-id-1 div.sk-item::before, #sk-container-id-1 div.sk-parallel-item::before {content: \"\";position: absolute;border-left: 1px solid gray;box-sizing: border-box;top: 0;bottom: 0;left: 50%;z-index: -1;}#sk-container-id-1 div.sk-parallel-item {display: flex;flex-direction: column;z-index: 1;position: relative;background-color: white;}#sk-container-id-1 div.sk-parallel-item:first-child::after {align-self: flex-end;width: 50%;}#sk-container-id-1 div.sk-parallel-item:last-child::after {align-self: flex-start;width: 50%;}#sk-container-id-1 div.sk-parallel-item:only-child::after {width: 0;}#sk-container-id-1 div.sk-dashed-wrapped {border: 1px dashed gray;margin: 0 0.4em 0.5em 0.4em;box-sizing: border-box;padding-bottom: 0.4em;background-color: white;}#sk-container-id-1 div.sk-label label {font-family: monospace;font-weight: bold;display: inline-block;line-height: 1.2em;}#sk-container-id-1 div.sk-label-container {text-align: center;}#sk-container-id-1 div.sk-container {/* jupyter's `normalize.less` sets `[hidden] { display: none; }` but bootstrap.min.css set `[hidden] { display: none !important; }` so we also need the `!important` here to be able to override the default hidden behavior on the sphinx rendered scikit-learn.org. See: https://github.com/scikit-learn/scikit-learn/issues/21755 */display: inline-block !important;position: relative;}#sk-container-id-1 div.sk-text-repr-fallback {display: none;}</style><div id=\"sk-container-id-1\" class=\"sk-top-container\"><div class=\"sk-text-repr-fallback\"><pre>GridSearchCV(cv=5, estimator=RandomForestClassifier(random_state=12345),\n",
       "             param_grid={&#x27;criterion&#x27;: [&#x27;gini&#x27;, &#x27;entropy&#x27;],\n",
       "                         &#x27;max_depth&#x27;: [5, 10, 20],\n",
       "                         &#x27;n_estimators&#x27;: [25, 50, 100, 150]},\n",
       "             scoring=&#x27;f1&#x27;)</pre><b>In a Jupyter environment, please rerun this cell to show the HTML representation or trust the notebook. <br />On GitHub, the HTML representation is unable to render, please try loading this page with nbviewer.org.</b></div><div class=\"sk-container\" hidden><div class=\"sk-item sk-dashed-wrapped\"><div class=\"sk-label-container\"><div class=\"sk-label sk-toggleable\"><input class=\"sk-toggleable__control sk-hidden--visually\" id=\"sk-estimator-id-1\" type=\"checkbox\" ><label for=\"sk-estimator-id-1\" class=\"sk-toggleable__label sk-toggleable__label-arrow\">GridSearchCV</label><div class=\"sk-toggleable__content\"><pre>GridSearchCV(cv=5, estimator=RandomForestClassifier(random_state=12345),\n",
       "             param_grid={&#x27;criterion&#x27;: [&#x27;gini&#x27;, &#x27;entropy&#x27;],\n",
       "                         &#x27;max_depth&#x27;: [5, 10, 20],\n",
       "                         &#x27;n_estimators&#x27;: [25, 50, 100, 150]},\n",
       "             scoring=&#x27;f1&#x27;)</pre></div></div></div><div class=\"sk-parallel\"><div class=\"sk-parallel-item\"><div class=\"sk-item\"><div class=\"sk-label-container\"><div class=\"sk-label sk-toggleable\"><input class=\"sk-toggleable__control sk-hidden--visually\" id=\"sk-estimator-id-2\" type=\"checkbox\" ><label for=\"sk-estimator-id-2\" class=\"sk-toggleable__label sk-toggleable__label-arrow\">estimator: RandomForestClassifier</label><div class=\"sk-toggleable__content\"><pre>RandomForestClassifier(random_state=12345)</pre></div></div></div><div class=\"sk-serial\"><div class=\"sk-item\"><div class=\"sk-estimator sk-toggleable\"><input class=\"sk-toggleable__control sk-hidden--visually\" id=\"sk-estimator-id-3\" type=\"checkbox\" ><label for=\"sk-estimator-id-3\" class=\"sk-toggleable__label sk-toggleable__label-arrow\">RandomForestClassifier</label><div class=\"sk-toggleable__content\"><pre>RandomForestClassifier(random_state=12345)</pre></div></div></div></div></div></div></div></div></div></div>"
      ],
      "text/plain": [
       "GridSearchCV(cv=5, estimator=RandomForestClassifier(random_state=12345),\n",
       "             param_grid={'criterion': ['gini', 'entropy'],\n",
       "                         'max_depth': [5, 10, 20],\n",
       "                         'n_estimators': [25, 50, 100, 150]},\n",
       "             scoring='f1')"
      ]
     },
     "execution_count": 28,
     "metadata": {},
     "output_type": "execute_result"
    }
   ],
   "source": [
    "# Подберем оптимальные параметры для модели \"Случайный лес\"\n",
    "parameters = {\n",
    "    'n_estimators' : [25,50,100,150],\n",
    "    'criterion' : ['gini', 'entropy'],\n",
    "    'max_depth':[5,10,20]\n",
    "}\n",
    "\n",
    "rfc = RandomForestClassifier(random_state=12345)\n",
    "\n",
    "clf_rfc = GridSearchCV(\n",
    "    estimator = rfc,\n",
    "    param_grid = parameters,\n",
    "    scoring = 'f1',\n",
    "    cv=5)\n",
    "\n",
    "clf_rfc.fit(features_train, target_train)"
   ]
  },
  {
   "cell_type": "code",
   "execution_count": 29,
   "metadata": {},
   "outputs": [
    {
     "name": "stdout",
     "output_type": "stream",
     "text": [
      "F1: 0.5754716981132074\n",
      "ROC_auc: 0.7104801312691731\n"
     ]
    }
   ],
   "source": [
    "# Обучим модель \"Случайный лес\" с лучшими гиперпараметрами и рассчитаем метрики на тестовой выборке\n",
    "model_base_rfc = clf_rfc.best_estimator_.fit(features_train, target_train)\n",
    "predicted_test = model_base_rfc.predict(features_test)\n",
    "print(\"F1:\", f1_score(target_test, predicted_test))\n",
    "print(\"ROC_auc:\", roc_auc_score(target_test, predicted_test))"
   ]
  },
  {
   "cell_type": "code",
   "execution_count": 30,
   "metadata": {},
   "outputs": [
    {
     "data": {
      "text/html": [
       "<style>#sk-container-id-2 {color: black;background-color: white;}#sk-container-id-2 pre{padding: 0;}#sk-container-id-2 div.sk-toggleable {background-color: white;}#sk-container-id-2 label.sk-toggleable__label {cursor: pointer;display: block;width: 100%;margin-bottom: 0;padding: 0.3em;box-sizing: border-box;text-align: center;}#sk-container-id-2 label.sk-toggleable__label-arrow:before {content: \"▸\";float: left;margin-right: 0.25em;color: #696969;}#sk-container-id-2 label.sk-toggleable__label-arrow:hover:before {color: black;}#sk-container-id-2 div.sk-estimator:hover label.sk-toggleable__label-arrow:before {color: black;}#sk-container-id-2 div.sk-toggleable__content {max-height: 0;max-width: 0;overflow: hidden;text-align: left;background-color: #f0f8ff;}#sk-container-id-2 div.sk-toggleable__content pre {margin: 0.2em;color: black;border-radius: 0.25em;background-color: #f0f8ff;}#sk-container-id-2 input.sk-toggleable__control:checked~div.sk-toggleable__content {max-height: 200px;max-width: 100%;overflow: auto;}#sk-container-id-2 input.sk-toggleable__control:checked~label.sk-toggleable__label-arrow:before {content: \"▾\";}#sk-container-id-2 div.sk-estimator input.sk-toggleable__control:checked~label.sk-toggleable__label {background-color: #d4ebff;}#sk-container-id-2 div.sk-label input.sk-toggleable__control:checked~label.sk-toggleable__label {background-color: #d4ebff;}#sk-container-id-2 input.sk-hidden--visually {border: 0;clip: rect(1px 1px 1px 1px);clip: rect(1px, 1px, 1px, 1px);height: 1px;margin: -1px;overflow: hidden;padding: 0;position: absolute;width: 1px;}#sk-container-id-2 div.sk-estimator {font-family: monospace;background-color: #f0f8ff;border: 1px dotted black;border-radius: 0.25em;box-sizing: border-box;margin-bottom: 0.5em;}#sk-container-id-2 div.sk-estimator:hover {background-color: #d4ebff;}#sk-container-id-2 div.sk-parallel-item::after {content: \"\";width: 100%;border-bottom: 1px solid gray;flex-grow: 1;}#sk-container-id-2 div.sk-label:hover label.sk-toggleable__label {background-color: #d4ebff;}#sk-container-id-2 div.sk-serial::before {content: \"\";position: absolute;border-left: 1px solid gray;box-sizing: border-box;top: 0;bottom: 0;left: 50%;z-index: 0;}#sk-container-id-2 div.sk-serial {display: flex;flex-direction: column;align-items: center;background-color: white;padding-right: 0.2em;padding-left: 0.2em;position: relative;}#sk-container-id-2 div.sk-item {position: relative;z-index: 1;}#sk-container-id-2 div.sk-parallel {display: flex;align-items: stretch;justify-content: center;background-color: white;position: relative;}#sk-container-id-2 div.sk-item::before, #sk-container-id-2 div.sk-parallel-item::before {content: \"\";position: absolute;border-left: 1px solid gray;box-sizing: border-box;top: 0;bottom: 0;left: 50%;z-index: -1;}#sk-container-id-2 div.sk-parallel-item {display: flex;flex-direction: column;z-index: 1;position: relative;background-color: white;}#sk-container-id-2 div.sk-parallel-item:first-child::after {align-self: flex-end;width: 50%;}#sk-container-id-2 div.sk-parallel-item:last-child::after {align-self: flex-start;width: 50%;}#sk-container-id-2 div.sk-parallel-item:only-child::after {width: 0;}#sk-container-id-2 div.sk-dashed-wrapped {border: 1px dashed gray;margin: 0 0.4em 0.5em 0.4em;box-sizing: border-box;padding-bottom: 0.4em;background-color: white;}#sk-container-id-2 div.sk-label label {font-family: monospace;font-weight: bold;display: inline-block;line-height: 1.2em;}#sk-container-id-2 div.sk-label-container {text-align: center;}#sk-container-id-2 div.sk-container {/* jupyter's `normalize.less` sets `[hidden] { display: none; }` but bootstrap.min.css set `[hidden] { display: none !important; }` so we also need the `!important` here to be able to override the default hidden behavior on the sphinx rendered scikit-learn.org. See: https://github.com/scikit-learn/scikit-learn/issues/21755 */display: inline-block !important;position: relative;}#sk-container-id-2 div.sk-text-repr-fallback {display: none;}</style><div id=\"sk-container-id-2\" class=\"sk-top-container\"><div class=\"sk-text-repr-fallback\"><pre>GridSearchCV(cv=5, estimator=GradientBoostingClassifier(random_state=12345),\n",
       "             param_grid={&#x27;learning_rate&#x27;: [0.1, 0.01],\n",
       "                         &#x27;max_depth&#x27;: [3, 5, 10, 20],\n",
       "                         &#x27;n_estimators&#x27;: [50, 100, 150]},\n",
       "             scoring=&#x27;f1&#x27;)</pre><b>In a Jupyter environment, please rerun this cell to show the HTML representation or trust the notebook. <br />On GitHub, the HTML representation is unable to render, please try loading this page with nbviewer.org.</b></div><div class=\"sk-container\" hidden><div class=\"sk-item sk-dashed-wrapped\"><div class=\"sk-label-container\"><div class=\"sk-label sk-toggleable\"><input class=\"sk-toggleable__control sk-hidden--visually\" id=\"sk-estimator-id-4\" type=\"checkbox\" ><label for=\"sk-estimator-id-4\" class=\"sk-toggleable__label sk-toggleable__label-arrow\">GridSearchCV</label><div class=\"sk-toggleable__content\"><pre>GridSearchCV(cv=5, estimator=GradientBoostingClassifier(random_state=12345),\n",
       "             param_grid={&#x27;learning_rate&#x27;: [0.1, 0.01],\n",
       "                         &#x27;max_depth&#x27;: [3, 5, 10, 20],\n",
       "                         &#x27;n_estimators&#x27;: [50, 100, 150]},\n",
       "             scoring=&#x27;f1&#x27;)</pre></div></div></div><div class=\"sk-parallel\"><div class=\"sk-parallel-item\"><div class=\"sk-item\"><div class=\"sk-label-container\"><div class=\"sk-label sk-toggleable\"><input class=\"sk-toggleable__control sk-hidden--visually\" id=\"sk-estimator-id-5\" type=\"checkbox\" ><label for=\"sk-estimator-id-5\" class=\"sk-toggleable__label sk-toggleable__label-arrow\">estimator: GradientBoostingClassifier</label><div class=\"sk-toggleable__content\"><pre>GradientBoostingClassifier(random_state=12345)</pre></div></div></div><div class=\"sk-serial\"><div class=\"sk-item\"><div class=\"sk-estimator sk-toggleable\"><input class=\"sk-toggleable__control sk-hidden--visually\" id=\"sk-estimator-id-6\" type=\"checkbox\" ><label for=\"sk-estimator-id-6\" class=\"sk-toggleable__label sk-toggleable__label-arrow\">GradientBoostingClassifier</label><div class=\"sk-toggleable__content\"><pre>GradientBoostingClassifier(random_state=12345)</pre></div></div></div></div></div></div></div></div></div></div>"
      ],
      "text/plain": [
       "GridSearchCV(cv=5, estimator=GradientBoostingClassifier(random_state=12345),\n",
       "             param_grid={'learning_rate': [0.1, 0.01],\n",
       "                         'max_depth': [3, 5, 10, 20],\n",
       "                         'n_estimators': [50, 100, 150]},\n",
       "             scoring='f1')"
      ]
     },
     "execution_count": 30,
     "metadata": {},
     "output_type": "execute_result"
    }
   ],
   "source": [
    "# Подберем оптимальные параметры для модели \"Градиентный бустинг\"\n",
    "parameters = {\n",
    "    'learning_rate' : [0.1, 0.01],\n",
    "    'n_estimators' : [50, 100, 150],\n",
    "    'max_depth':[3,5,10,20],\n",
    "}\n",
    "\n",
    "gbc = GradientBoostingClassifier(random_state=12345)\n",
    "\n",
    "clf_gbc = GridSearchCV(\n",
    "    estimator = gbc,\n",
    "    param_grid = parameters,\n",
    "    scoring = 'f1',\n",
    "    cv=5)\n",
    "    \n",
    "clf_gbc.fit(features_train, target_train)"
   ]
  },
  {
   "cell_type": "code",
   "execution_count": 31,
   "metadata": {},
   "outputs": [
    {
     "name": "stdout",
     "output_type": "stream",
     "text": [
      "F1: 0.6176808266360506\n",
      "ROC_auc: 0.7343535231028988\n"
     ]
    }
   ],
   "source": [
    "# Обучим модель \"Градиентный бустинг\" с лучшими гиперпараметрами и рассчитаем метрики на тестовой выборке\n",
    "model_base_gbc = clf_gbc.best_estimator_.fit(features_train, target_train)\n",
    "predicted_test = model_base_gbc.predict(features_test)\n",
    "print(\"F1:\", f1_score(target_test, predicted_test))\n",
    "print(\"ROC_auc:\", roc_auc_score(target_test, predicted_test))"
   ]
  },
  {
   "cell_type": "code",
   "execution_count": 32,
   "metadata": {},
   "outputs": [
    {
     "name": "stdout",
     "output_type": "stream",
     "text": [
      "Порог = 0.00 | Точность = 0.214, Полнота = 1.000, F1 = 0.353, ROC_auc = 0.500\n",
      "Порог = 0.02 | Точность = 0.215, Полнота = 1.000, F1 = 0.355, ROC_auc = 0.504\n",
      "Порог = 0.04 | Точность = 0.225, Полнота = 0.981, F1 = 0.366, ROC_auc = 0.531\n",
      "Порог = 0.06 | Точность = 0.243, Полнота = 0.953, F1 = 0.387, ROC_auc = 0.573\n",
      "Порог = 0.08 | Точность = 0.263, Полнота = 0.933, F1 = 0.411, ROC_auc = 0.611\n",
      "Порог = 0.10 | Точность = 0.283, Полнота = 0.895, F1 = 0.430, ROC_auc = 0.639\n",
      "Порог = 0.12 | Точность = 0.304, Полнота = 0.852, F1 = 0.448, ROC_auc = 0.661\n",
      "Порог = 0.14 | Точность = 0.328, Полнота = 0.821, F1 = 0.468, ROC_auc = 0.681\n",
      "Порог = 0.16 | Точность = 0.347, Полнота = 0.781, F1 = 0.480, ROC_auc = 0.690\n",
      "Порог = 0.18 | Точность = 0.367, Полнота = 0.750, F1 = 0.493, ROC_auc = 0.699\n",
      "Порог = 0.20 | Точность = 0.387, Полнота = 0.707, F1 = 0.500, ROC_auc = 0.701\n",
      "Порог = 0.22 | Точность = 0.407, Полнота = 0.667, F1 = 0.505, ROC_auc = 0.701\n",
      "Порог = 0.24 | Точность = 0.419, Полнота = 0.630, F1 = 0.503, ROC_auc = 0.696\n",
      "Порог = 0.26 | Точность = 0.439, Полнота = 0.600, F1 = 0.507, ROC_auc = 0.696\n",
      "Порог = 0.28 | Точность = 0.446, Полнота = 0.544, F1 = 0.490, ROC_auc = 0.680\n",
      "Порог = 0.30 | Точность = 0.461, Полнота = 0.503, F1 = 0.481, ROC_auc = 0.671\n",
      "Порог = 0.32 | Точность = 0.472, Полнота = 0.460, F1 = 0.466, ROC_auc = 0.660\n",
      "Порог = 0.34 | Точность = 0.486, Полнота = 0.434, F1 = 0.458, ROC_auc = 0.654\n",
      "Порог = 0.36 | Точность = 0.501, Полнота = 0.393, F1 = 0.440, ROC_auc = 0.643\n",
      "Порог = 0.38 | Точность = 0.530, Полнота = 0.364, F1 = 0.432, ROC_auc = 0.638\n",
      "Порог = 0.40 | Точность = 0.524, Полнота = 0.323, F1 = 0.400, ROC_auc = 0.622\n",
      "Порог = 0.42 | Точность = 0.534, Полнота = 0.297, F1 = 0.382, ROC_auc = 0.613\n",
      "Порог = 0.44 | Точность = 0.549, Полнота = 0.284, F1 = 0.374, ROC_auc = 0.610\n",
      "Порог = 0.46 | Точность = 0.559, Полнота = 0.258, F1 = 0.353, ROC_auc = 0.601\n",
      "Порог = 0.48 | Точность = 0.567, Полнота = 0.222, F1 = 0.319, ROC_auc = 0.588\n"
     ]
    }
   ],
   "source": [
    "# Рассчитаем оптимальный порог классификации для модели \"Логистическая регрессия\" \n",
    "model = LogisticRegression(random_state=12345, solver='liblinear')\n",
    "model.fit(features_train, target_train)\n",
    "probabilities_test = model.predict_proba(features_test)\n",
    "probabilities_one_test = probabilities_test[:, 1]\n",
    "\n",
    "for threshold in np.arange(0, 0.5, 0.02):\n",
    "    predicted_test = probabilities_one_test > threshold \n",
    "    precision = precision_score(target_test,predicted_test) \n",
    "    recall = recall_score(target_test,predicted_test) \n",
    "    print(\"Порог = {:.2f} | Точность = {:.3f}, Полнота = {:.3f}, F1 = {:.3f}, ROC_auc = {:.3f}\".format(\n",
    "        threshold, precision, recall, f1_score(target_test, predicted_test), roc_auc_score(target_test, predicted_test)))"
   ]
  },
  {
   "cell_type": "code",
   "execution_count": 33,
   "metadata": {},
   "outputs": [
    {
     "name": "stdout",
     "output_type": "stream",
     "text": [
      "Порог = 0.00 | Точность = 0.214, Полнота = 1.000, F1 = 0.353, ROC_auc = 0.500\n",
      "Порог = 0.02 | Точность = 0.235, Полнота = 0.987, F1 = 0.380, ROC_auc = 0.557\n",
      "Порог = 0.04 | Точность = 0.281, Полнота = 0.970, F1 = 0.435, ROC_auc = 0.646\n",
      "Порог = 0.06 | Точность = 0.320, Полнота = 0.936, F1 = 0.476, ROC_auc = 0.697\n",
      "Порог = 0.08 | Точность = 0.361, Полнота = 0.895, F1 = 0.515, ROC_auc = 0.732\n",
      "Порог = 0.10 | Точность = 0.396, Полнота = 0.865, F1 = 0.543, ROC_auc = 0.753\n",
      "Порог = 0.12 | Точность = 0.428, Полнота = 0.839, F1 = 0.567, ROC_auc = 0.767\n",
      "Порог = 0.14 | Точность = 0.457, Полнота = 0.817, F1 = 0.586, ROC_auc = 0.776\n",
      "Порог = 0.16 | Точность = 0.486, Полнота = 0.802, F1 = 0.606, ROC_auc = 0.786\n",
      "Порог = 0.18 | Точность = 0.512, Полнота = 0.779, F1 = 0.618, ROC_auc = 0.788\n",
      "Порог = 0.20 | Точность = 0.537, Полнота = 0.755, F1 = 0.628, ROC_auc = 0.789\n",
      "Порог = 0.22 | Точность = 0.561, Полнота = 0.729, F1 = 0.634, ROC_auc = 0.787\n",
      "Порог = 0.24 | Точность = 0.583, Полнота = 0.703, F1 = 0.637, ROC_auc = 0.783\n",
      "Порог = 0.26 | Точность = 0.606, Полнота = 0.684, F1 = 0.643, ROC_auc = 0.781\n",
      "Порог = 0.28 | Точность = 0.629, Полнота = 0.658, F1 = 0.643, ROC_auc = 0.776\n",
      "Порог = 0.30 | Точность = 0.650, Полнота = 0.647, F1 = 0.649, ROC_auc = 0.776\n",
      "Порог = 0.32 | Точность = 0.664, Полнота = 0.628, F1 = 0.646, ROC_auc = 0.771\n",
      "Порог = 0.34 | Точность = 0.683, Полнота = 0.615, F1 = 0.647, ROC_auc = 0.769\n",
      "Порог = 0.36 | Точность = 0.703, Полнота = 0.598, F1 = 0.646, ROC_auc = 0.765\n",
      "Порог = 0.38 | Точность = 0.712, Полнота = 0.578, F1 = 0.638, ROC_auc = 0.757\n",
      "Порог = 0.40 | Точность = 0.728, Полнота = 0.566, F1 = 0.637, ROC_auc = 0.754\n",
      "Порог = 0.42 | Точность = 0.746, Полнота = 0.553, F1 = 0.635, ROC_auc = 0.751\n",
      "Порог = 0.44 | Точность = 0.775, Полнота = 0.540, F1 = 0.637, ROC_auc = 0.749\n",
      "Порог = 0.46 | Точность = 0.786, Полнота = 0.529, F1 = 0.632, ROC_auc = 0.745\n",
      "Порог = 0.48 | Точность = 0.793, Полнота = 0.514, F1 = 0.624, ROC_auc = 0.739\n"
     ]
    }
   ],
   "source": [
    "# Рассчитаем оптимальный порог классификации для модели \"Градиентный бустинг\"\n",
    "\n",
    "probabilities_test = model_base_gbc.predict_proba(features_test)\n",
    "probabilities_one_test = probabilities_test[:, 1]\n",
    "\n",
    "for threshold in np.arange(0, 0.5, 0.02):\n",
    "    predicted_test = probabilities_one_test > threshold \n",
    "    precision = precision_score(target_test,predicted_test) \n",
    "    recall = recall_score(target_test,predicted_test) \n",
    "    print(\"Порог = {:.2f} | Точность = {:.3f}, Полнота = {:.3f}, F1 = {:.3f}, ROC_auc = {:.3f}\".format(\n",
    "        threshold, precision, recall, f1_score(target_test, predicted_test), roc_auc_score(target_test, predicted_test)))"
   ]
  },
  {
   "cell_type": "markdown",
   "metadata": {},
   "source": [
    "**Вывод**\n",
    "\n",
    "- Базовая модель \"Логистическая регрессия\" на тестовых данных показала результат по f1 = 0,29  и roc_auc = 0,58.\n",
    "- Модель \"Случайный лес\" на тестовых данных f1=0,58 и roc_auc=0,71.\n",
    "- Модель \"Градиентный бустинг\" на тестовых данных f1=0,59 и roc_auc=0,72.\n",
    "- При изменении порога классификации в модели \"Логистическая регрессия\" оптимальные значений метрик составляют f1 = 0.507, roc_auc = 0.702 при пороге =0,22.\n",
    "- При изменении порога классификации \"Градиентный бустинг\" на тестовых данных при пороге 0,2 дает результат 0,638 и 0,798. \n",
    "\n",
    "**Таким образом, лучший результат на текущих обучающих данных без борьбы с дисбалансом классов получены моделью \"Градиентный бустинг\"**"
   ]
  },
  {
   "cell_type": "markdown",
   "metadata": {},
   "source": [
    "## Борьба с дисбалансом"
   ]
  },
  {
   "cell_type": "code",
   "execution_count": 34,
   "metadata": {},
   "outputs": [
    {
     "data": {
      "text/plain": [
       "(7963, 11)"
      ]
     },
     "execution_count": 34,
     "metadata": {},
     "output_type": "execute_result"
    }
   ],
   "source": [
    "# количество объектов отрицательного класса\n",
    "features_zeros = features[target == 0]\n",
    "features_zeros.shape"
   ]
  },
  {
   "cell_type": "code",
   "execution_count": 35,
   "metadata": {},
   "outputs": [
    {
     "data": {
      "text/plain": [
       "(2037, 11)"
      ]
     },
     "execution_count": 35,
     "metadata": {},
     "output_type": "execute_result"
    }
   ],
   "source": [
    "# количество объектов положительного класса\n",
    "features_ones = features[target == 1]\n",
    "features_ones.shape"
   ]
  },
  {
   "cell_type": "markdown",
   "metadata": {},
   "source": [
    "Объектов отрицательно класса почти в четыре раза больше, чем объектов положительного класса. Изучим разные методы борьбы с дисбалансом классов и выберем оптимальную модель и оптимальный метод корректировки дисбаланса классов."
   ]
  },
  {
   "cell_type": "markdown",
   "metadata": {},
   "source": [
    "### Параметр class_weight для борьбы с дисбалансом"
   ]
  },
  {
   "cell_type": "code",
   "execution_count": 36,
   "metadata": {},
   "outputs": [
    {
     "name": "stdout",
     "output_type": "stream",
     "text": [
      "F1: 0.5050234427327529\n",
      "ROC_auc: 0.7044992984709044\n"
     ]
    }
   ],
   "source": [
    "# Рассчитаем модель \"Логистическая регрессия\" с параметром class_weight = 'balanced'\n",
    "\n",
    "model = LogisticRegression(random_state=12345, solver='liblinear', class_weight = 'balanced')\n",
    "model.fit(features_train, target_train)\n",
    "predicted_test = model.predict(features_test)\n",
    "print(\"F1:\", f1_score(target_test, predicted_test))\n",
    "print(\"ROC_auc:\", roc_auc_score(target_test, predicted_test))"
   ]
  },
  {
   "cell_type": "code",
   "execution_count": 37,
   "metadata": {},
   "outputs": [
    {
     "name": "stdout",
     "output_type": "stream",
     "text": [
      "Порог = 0.00 | Точность = 0.214, Полнота = 1.000, F1 = 0.353, ROC_auc = 0.500\n",
      "Порог = 0.02 | Точность = 0.214, Полнота = 1.000, F1 = 0.353, ROC_auc = 0.500\n",
      "Порог = 0.04 | Точность = 0.214, Полнота = 1.000, F1 = 0.353, ROC_auc = 0.500\n",
      "Порог = 0.06 | Точность = 0.214, Полнота = 1.000, F1 = 0.353, ROC_auc = 0.501\n",
      "Порог = 0.08 | Точность = 0.216, Полнота = 1.000, F1 = 0.355, ROC_auc = 0.506\n",
      "Порог = 0.10 | Точность = 0.218, Полнота = 0.998, F1 = 0.358, ROC_auc = 0.512\n",
      "Порог = 0.12 | Точность = 0.221, Полнота = 0.993, F1 = 0.362, ROC_auc = 0.521\n",
      "Порог = 0.14 | Точность = 0.225, Полнота = 0.987, F1 = 0.367, ROC_auc = 0.532\n",
      "Порог = 0.16 | Точность = 0.229, Полнота = 0.974, F1 = 0.371, ROC_auc = 0.541\n",
      "Порог = 0.18 | Точность = 0.235, Полнота = 0.968, F1 = 0.379, ROC_auc = 0.556\n",
      "Порог = 0.20 | Точность = 0.240, Полнота = 0.955, F1 = 0.384, ROC_auc = 0.567\n",
      "Порог = 0.22 | Точность = 0.249, Полнота = 0.946, F1 = 0.394, ROC_auc = 0.584\n",
      "Порог = 0.24 | Точность = 0.259, Полнота = 0.940, F1 = 0.406, ROC_auc = 0.603\n",
      "Порог = 0.26 | Точность = 0.266, Полнота = 0.933, F1 = 0.414, ROC_auc = 0.616\n",
      "Порог = 0.28 | Точность = 0.275, Полнота = 0.920, F1 = 0.423, ROC_auc = 0.630\n",
      "Порог = 0.30 | Точность = 0.286, Полнота = 0.912, F1 = 0.435, ROC_auc = 0.645\n",
      "Порог = 0.32 | Точность = 0.294, Полнота = 0.892, F1 = 0.442, ROC_auc = 0.654\n",
      "Порог = 0.34 | Точность = 0.304, Полнота = 0.875, F1 = 0.452, ROC_auc = 0.665\n",
      "Порог = 0.36 | Точность = 0.315, Полнота = 0.850, F1 = 0.459, ROC_auc = 0.673\n",
      "Порог = 0.38 | Точность = 0.328, Полнота = 0.839, F1 = 0.472, ROC_auc = 0.686\n",
      "Порог = 0.40 | Точность = 0.339, Полнота = 0.824, F1 = 0.481, ROC_auc = 0.694\n",
      "Порог = 0.42 | Точность = 0.346, Полнота = 0.802, F1 = 0.483, ROC_auc = 0.695\n",
      "Порог = 0.44 | Точность = 0.357, Полнота = 0.781, F1 = 0.490, ROC_auc = 0.699\n",
      "Порог = 0.46 | Точность = 0.373, Полнота = 0.755, F1 = 0.499, ROC_auc = 0.705\n",
      "Порог = 0.48 | Точность = 0.382, Полнота = 0.727, F1 = 0.501, ROC_auc = 0.703\n",
      "Порог = 0.50 | Точность = 0.394, Полнота = 0.705, F1 = 0.505, ROC_auc = 0.704\n",
      "Порог = 0.52 | Точность = 0.405, Полнота = 0.680, F1 = 0.508, ROC_auc = 0.704\n",
      "Порог = 0.54 | Точность = 0.416, Полнота = 0.652, F1 = 0.508, ROC_auc = 0.702\n",
      "Порог = 0.56 | Точность = 0.431, Полнота = 0.630, F1 = 0.512, ROC_auc = 0.702\n",
      "Порог = 0.58 | Точность = 0.439, Полнота = 0.591, F1 = 0.504, ROC_auc = 0.693\n",
      "Порог = 0.60 | Точность = 0.447, Полнота = 0.557, F1 = 0.496, ROC_auc = 0.685\n",
      "Порог = 0.62 | Точность = 0.466, Полнота = 0.533, F1 = 0.497, ROC_auc = 0.683\n",
      "Порог = 0.64 | Точность = 0.477, Полнота = 0.495, F1 = 0.486, ROC_auc = 0.674\n",
      "Порог = 0.66 | Точность = 0.487, Полнота = 0.454, F1 = 0.470, ROC_auc = 0.662\n",
      "Порог = 0.68 | Точность = 0.496, Полнота = 0.417, F1 = 0.453, ROC_auc = 0.651\n",
      "Порог = 0.70 | Точность = 0.504, Полнота = 0.374, F1 = 0.429, ROC_auc = 0.637\n",
      "Порог = 0.72 | Точность = 0.515, Полнота = 0.344, F1 = 0.413, ROC_auc = 0.628\n",
      "Порог = 0.74 | Точность = 0.525, Полнота = 0.308, F1 = 0.389, ROC_auc = 0.616\n",
      "Порог = 0.76 | Точность = 0.539, Полнота = 0.282, F1 = 0.371, ROC_auc = 0.608\n",
      "Порог = 0.78 | Точность = 0.537, Полнота = 0.241, F1 = 0.333, ROC_auc = 0.592\n"
     ]
    }
   ],
   "source": [
    "# Рассчитаем оптимальный порог классификации для \"Логистическая регрессия\" с параметром class_weight = 'balanced'\n",
    "\n",
    "probabilities_test = model.predict_proba(features_test)\n",
    "probabilities_one_test = probabilities_test[:, 1]\n",
    "\n",
    "for threshold in np.arange(0, 0.8, 0.02):\n",
    "    predicted_test = probabilities_one_test > threshold \n",
    "    precision = precision_score(target_test,predicted_test) \n",
    "    recall = recall_score(target_test,predicted_test) \n",
    "    print(\"Порог = {:.2f} | Точность = {:.3f}, Полнота = {:.3f}, F1 = {:.3f}, ROC_auc = {:.3f}\".format(\n",
    "        threshold, precision, recall, f1_score(target_test, predicted_test), roc_auc_score(target_test, predicted_test)))"
   ]
  },
  {
   "cell_type": "code",
   "execution_count": 38,
   "metadata": {},
   "outputs": [
    {
     "data": {
      "text/html": [
       "<style>#sk-container-id-3 {color: black;background-color: white;}#sk-container-id-3 pre{padding: 0;}#sk-container-id-3 div.sk-toggleable {background-color: white;}#sk-container-id-3 label.sk-toggleable__label {cursor: pointer;display: block;width: 100%;margin-bottom: 0;padding: 0.3em;box-sizing: border-box;text-align: center;}#sk-container-id-3 label.sk-toggleable__label-arrow:before {content: \"▸\";float: left;margin-right: 0.25em;color: #696969;}#sk-container-id-3 label.sk-toggleable__label-arrow:hover:before {color: black;}#sk-container-id-3 div.sk-estimator:hover label.sk-toggleable__label-arrow:before {color: black;}#sk-container-id-3 div.sk-toggleable__content {max-height: 0;max-width: 0;overflow: hidden;text-align: left;background-color: #f0f8ff;}#sk-container-id-3 div.sk-toggleable__content pre {margin: 0.2em;color: black;border-radius: 0.25em;background-color: #f0f8ff;}#sk-container-id-3 input.sk-toggleable__control:checked~div.sk-toggleable__content {max-height: 200px;max-width: 100%;overflow: auto;}#sk-container-id-3 input.sk-toggleable__control:checked~label.sk-toggleable__label-arrow:before {content: \"▾\";}#sk-container-id-3 div.sk-estimator input.sk-toggleable__control:checked~label.sk-toggleable__label {background-color: #d4ebff;}#sk-container-id-3 div.sk-label input.sk-toggleable__control:checked~label.sk-toggleable__label {background-color: #d4ebff;}#sk-container-id-3 input.sk-hidden--visually {border: 0;clip: rect(1px 1px 1px 1px);clip: rect(1px, 1px, 1px, 1px);height: 1px;margin: -1px;overflow: hidden;padding: 0;position: absolute;width: 1px;}#sk-container-id-3 div.sk-estimator {font-family: monospace;background-color: #f0f8ff;border: 1px dotted black;border-radius: 0.25em;box-sizing: border-box;margin-bottom: 0.5em;}#sk-container-id-3 div.sk-estimator:hover {background-color: #d4ebff;}#sk-container-id-3 div.sk-parallel-item::after {content: \"\";width: 100%;border-bottom: 1px solid gray;flex-grow: 1;}#sk-container-id-3 div.sk-label:hover label.sk-toggleable__label {background-color: #d4ebff;}#sk-container-id-3 div.sk-serial::before {content: \"\";position: absolute;border-left: 1px solid gray;box-sizing: border-box;top: 0;bottom: 0;left: 50%;z-index: 0;}#sk-container-id-3 div.sk-serial {display: flex;flex-direction: column;align-items: center;background-color: white;padding-right: 0.2em;padding-left: 0.2em;position: relative;}#sk-container-id-3 div.sk-item {position: relative;z-index: 1;}#sk-container-id-3 div.sk-parallel {display: flex;align-items: stretch;justify-content: center;background-color: white;position: relative;}#sk-container-id-3 div.sk-item::before, #sk-container-id-3 div.sk-parallel-item::before {content: \"\";position: absolute;border-left: 1px solid gray;box-sizing: border-box;top: 0;bottom: 0;left: 50%;z-index: -1;}#sk-container-id-3 div.sk-parallel-item {display: flex;flex-direction: column;z-index: 1;position: relative;background-color: white;}#sk-container-id-3 div.sk-parallel-item:first-child::after {align-self: flex-end;width: 50%;}#sk-container-id-3 div.sk-parallel-item:last-child::after {align-self: flex-start;width: 50%;}#sk-container-id-3 div.sk-parallel-item:only-child::after {width: 0;}#sk-container-id-3 div.sk-dashed-wrapped {border: 1px dashed gray;margin: 0 0.4em 0.5em 0.4em;box-sizing: border-box;padding-bottom: 0.4em;background-color: white;}#sk-container-id-3 div.sk-label label {font-family: monospace;font-weight: bold;display: inline-block;line-height: 1.2em;}#sk-container-id-3 div.sk-label-container {text-align: center;}#sk-container-id-3 div.sk-container {/* jupyter's `normalize.less` sets `[hidden] { display: none; }` but bootstrap.min.css set `[hidden] { display: none !important; }` so we also need the `!important` here to be able to override the default hidden behavior on the sphinx rendered scikit-learn.org. See: https://github.com/scikit-learn/scikit-learn/issues/21755 */display: inline-block !important;position: relative;}#sk-container-id-3 div.sk-text-repr-fallback {display: none;}</style><div id=\"sk-container-id-3\" class=\"sk-top-container\"><div class=\"sk-text-repr-fallback\"><pre>GridSearchCV(cv=5, estimator=RandomForestClassifier(random_state=12345),\n",
       "             param_grid={&#x27;class_weight&#x27;: [&#x27;balanced&#x27;],\n",
       "                         &#x27;criterion&#x27;: [&#x27;gini&#x27;, &#x27;entropy&#x27;],\n",
       "                         &#x27;max_depth&#x27;: [5, 10, 20],\n",
       "                         &#x27;n_estimators&#x27;: [25, 50, 100, 150]},\n",
       "             scoring=&#x27;f1&#x27;)</pre><b>In a Jupyter environment, please rerun this cell to show the HTML representation or trust the notebook. <br />On GitHub, the HTML representation is unable to render, please try loading this page with nbviewer.org.</b></div><div class=\"sk-container\" hidden><div class=\"sk-item sk-dashed-wrapped\"><div class=\"sk-label-container\"><div class=\"sk-label sk-toggleable\"><input class=\"sk-toggleable__control sk-hidden--visually\" id=\"sk-estimator-id-7\" type=\"checkbox\" ><label for=\"sk-estimator-id-7\" class=\"sk-toggleable__label sk-toggleable__label-arrow\">GridSearchCV</label><div class=\"sk-toggleable__content\"><pre>GridSearchCV(cv=5, estimator=RandomForestClassifier(random_state=12345),\n",
       "             param_grid={&#x27;class_weight&#x27;: [&#x27;balanced&#x27;],\n",
       "                         &#x27;criterion&#x27;: [&#x27;gini&#x27;, &#x27;entropy&#x27;],\n",
       "                         &#x27;max_depth&#x27;: [5, 10, 20],\n",
       "                         &#x27;n_estimators&#x27;: [25, 50, 100, 150]},\n",
       "             scoring=&#x27;f1&#x27;)</pre></div></div></div><div class=\"sk-parallel\"><div class=\"sk-parallel-item\"><div class=\"sk-item\"><div class=\"sk-label-container\"><div class=\"sk-label sk-toggleable\"><input class=\"sk-toggleable__control sk-hidden--visually\" id=\"sk-estimator-id-8\" type=\"checkbox\" ><label for=\"sk-estimator-id-8\" class=\"sk-toggleable__label sk-toggleable__label-arrow\">estimator: RandomForestClassifier</label><div class=\"sk-toggleable__content\"><pre>RandomForestClassifier(random_state=12345)</pre></div></div></div><div class=\"sk-serial\"><div class=\"sk-item\"><div class=\"sk-estimator sk-toggleable\"><input class=\"sk-toggleable__control sk-hidden--visually\" id=\"sk-estimator-id-9\" type=\"checkbox\" ><label for=\"sk-estimator-id-9\" class=\"sk-toggleable__label sk-toggleable__label-arrow\">RandomForestClassifier</label><div class=\"sk-toggleable__content\"><pre>RandomForestClassifier(random_state=12345)</pre></div></div></div></div></div></div></div></div></div></div>"
      ],
      "text/plain": [
       "GridSearchCV(cv=5, estimator=RandomForestClassifier(random_state=12345),\n",
       "             param_grid={'class_weight': ['balanced'],\n",
       "                         'criterion': ['gini', 'entropy'],\n",
       "                         'max_depth': [5, 10, 20],\n",
       "                         'n_estimators': [25, 50, 100, 150]},\n",
       "             scoring='f1')"
      ]
     },
     "execution_count": 38,
     "metadata": {},
     "output_type": "execute_result"
    }
   ],
   "source": [
    "# Подберем оптимальные параметры для модели \"Случайный лес\" с параметром class_weight = 'balanced'\n",
    "parameters = {\n",
    "    'n_estimators' : [25,50,100,150],\n",
    "    'criterion' : ['gini', 'entropy'],\n",
    "    'max_depth':[5,10,20],    \n",
    "    'class_weight' : ['balanced']\n",
    "}\n",
    "\n",
    "rfc = RandomForestClassifier(random_state=12345)\n",
    "\n",
    "clf_rfc_b = GridSearchCV(\n",
    "    estimator = rfc,\n",
    "    param_grid = parameters,\n",
    "    scoring = 'f1',\n",
    "    cv=5)\n",
    "\n",
    "clf_rfc_b.fit(features_train, target_train)"
   ]
  },
  {
   "cell_type": "code",
   "execution_count": 39,
   "metadata": {},
   "outputs": [
    {
     "name": "stdout",
     "output_type": "stream",
     "text": [
      "F1: 0.64\n",
      "ROC_auc: 0.7747734893343796\n"
     ]
    }
   ],
   "source": [
    "# Обучим модель \"Случайный лес\" с лучшими гиперпараметрами и с параметром class_weight = 'balanced'. \n",
    "# Рассчитаем метрики на тестовой выборке\n",
    "\n",
    "model_rfc_b = clf_rfc_b.best_estimator_.fit(features_train, target_train)\n",
    "predicted_test = model_rfc_b.predict(features_test)\n",
    "print(\"F1:\", f1_score(target_test, predicted_test))\n",
    "print(\"ROC_auc:\", roc_auc_score(target_test, predicted_test))"
   ]
  },
  {
   "cell_type": "code",
   "execution_count": 40,
   "metadata": {},
   "outputs": [
    {
     "name": "stdout",
     "output_type": "stream",
     "text": [
      "Порог = 0.00 | Точность = 0.214, Полнота = 1.000, F1 = 0.353, ROC_auc = 0.500\n",
      "Порог = 0.02 | Точность = 0.214, Полнота = 1.000, F1 = 0.353, ROC_auc = 0.501\n",
      "Порог = 0.04 | Точность = 0.218, Полнота = 0.998, F1 = 0.358, ROC_auc = 0.512\n",
      "Порог = 0.06 | Точность = 0.231, Полнота = 0.996, F1 = 0.374, ROC_auc = 0.545\n",
      "Порог = 0.08 | Точность = 0.240, Полнота = 0.981, F1 = 0.385, ROC_auc = 0.567\n",
      "Порог = 0.10 | Точность = 0.254, Полнота = 0.979, F1 = 0.403, ROC_auc = 0.598\n",
      "Порог = 0.12 | Точность = 0.266, Полнота = 0.970, F1 = 0.417, ROC_auc = 0.620\n",
      "Порог = 0.14 | Точность = 0.280, Полнота = 0.963, F1 = 0.434, ROC_auc = 0.645\n",
      "Порог = 0.16 | Точность = 0.294, Полнота = 0.957, F1 = 0.450, ROC_auc = 0.666\n",
      "Порог = 0.18 | Точность = 0.312, Полнота = 0.948, F1 = 0.469, ROC_auc = 0.689\n",
      "Порог = 0.20 | Точность = 0.326, Полнота = 0.936, F1 = 0.484, ROC_auc = 0.705\n",
      "Порог = 0.22 | Точность = 0.338, Полнота = 0.920, F1 = 0.494, ROC_auc = 0.714\n",
      "Порог = 0.24 | Точность = 0.356, Полнота = 0.905, F1 = 0.511, ROC_auc = 0.730\n",
      "Порог = 0.26 | Точность = 0.377, Полнота = 0.890, F1 = 0.529, ROC_auc = 0.744\n",
      "Порог = 0.28 | Точность = 0.398, Полнота = 0.873, F1 = 0.547, ROC_auc = 0.757\n",
      "Порог = 0.30 | Точность = 0.420, Полнота = 0.858, F1 = 0.564, ROC_auc = 0.768\n",
      "Порог = 0.32 | Точность = 0.438, Полнота = 0.836, F1 = 0.575, ROC_auc = 0.772\n",
      "Порог = 0.34 | Точность = 0.457, Полнота = 0.817, F1 = 0.586, ROC_auc = 0.776\n",
      "Порог = 0.36 | Точность = 0.486, Полнота = 0.806, F1 = 0.607, ROC_auc = 0.787\n",
      "Порог = 0.38 | Точность = 0.504, Полнота = 0.798, F1 = 0.617, ROC_auc = 0.792\n",
      "Порог = 0.40 | Точность = 0.525, Полнота = 0.779, F1 = 0.627, ROC_auc = 0.794\n",
      "Порог = 0.42 | Точность = 0.549, Полнота = 0.763, F1 = 0.638, ROC_auc = 0.796\n",
      "Порог = 0.44 | Точность = 0.574, Полнота = 0.740, F1 = 0.647, ROC_auc = 0.795\n",
      "Порог = 0.46 | Точность = 0.588, Полнота = 0.710, F1 = 0.644, ROC_auc = 0.787\n",
      "Порог = 0.48 | Точность = 0.607, Полнота = 0.686, F1 = 0.644, ROC_auc = 0.782\n",
      "Порог = 0.50 | Точность = 0.623, Полнота = 0.658, F1 = 0.640, ROC_auc = 0.775\n",
      "Порог = 0.52 | Точность = 0.640, Полнота = 0.634, F1 = 0.637, ROC_auc = 0.768\n",
      "Порог = 0.54 | Точность = 0.664, Полнота = 0.606, F1 = 0.633, ROC_auc = 0.761\n",
      "Порог = 0.56 | Точность = 0.684, Полнота = 0.581, F1 = 0.628, ROC_auc = 0.754\n",
      "Порог = 0.58 | Точность = 0.722, Полнота = 0.568, F1 = 0.636, ROC_auc = 0.754\n",
      "Порог = 0.60 | Точность = 0.739, Полнота = 0.529, F1 = 0.617, ROC_auc = 0.739\n",
      "Порог = 0.62 | Точность = 0.754, Полнота = 0.492, F1 = 0.595, ROC_auc = 0.724\n",
      "Порог = 0.64 | Точность = 0.781, Полнота = 0.473, F1 = 0.589, ROC_auc = 0.718\n",
      "Порог = 0.66 | Точность = 0.807, Полнота = 0.447, F1 = 0.575, ROC_auc = 0.709\n",
      "Порог = 0.68 | Точность = 0.822, Полнота = 0.415, F1 = 0.552, ROC_auc = 0.695\n",
      "Порог = 0.70 | Точность = 0.831, Полнота = 0.387, F1 = 0.528, ROC_auc = 0.683\n",
      "Порог = 0.72 | Точность = 0.840, Полнота = 0.363, F1 = 0.507, ROC_auc = 0.672\n",
      "Порог = 0.74 | Точность = 0.851, Полнота = 0.342, F1 = 0.488, ROC_auc = 0.663\n",
      "Порог = 0.76 | Точность = 0.854, Полнота = 0.318, F1 = 0.463, ROC_auc = 0.651\n",
      "Порог = 0.78 | Точность = 0.874, Полнота = 0.297, F1 = 0.444, ROC_auc = 0.643\n"
     ]
    }
   ],
   "source": [
    "# Рассчитаем оптимальный порог классификации для \"Случайный лес\" с параметром  class_weight = 'balanced'\n",
    "\n",
    "probabilities_test = model_rfc_b.predict_proba(features_test)\n",
    "probabilities_one_test = probabilities_test[:, 1]\n",
    "\n",
    "for threshold in np.arange(0, 0.8, 0.02):\n",
    "    predicted_test = probabilities_one_test > threshold \n",
    "    precision = precision_score(target_test,predicted_test) \n",
    "    recall = recall_score(target_test,predicted_test) \n",
    "    print(\"Порог = {:.2f} | Точность = {:.3f}, Полнота = {:.3f}, F1 = {:.3f}, ROC_auc = {:.3f}\".format(\n",
    "        threshold, precision, recall, f1_score(target_test, predicted_test), roc_auc_score(target_test, predicted_test)))"
   ]
  },
  {
   "cell_type": "markdown",
   "metadata": {},
   "source": [
    "**Вывод**\n",
    "\n",
    "При применении гиперпараметра class_weight = 'balanced' для борьбы с дисбалансом классов:\n",
    "- модель \"Логистическая регрессия\" показала результат на тестовой выборке по f1=0.51 и roc_auc=0.71, что значительно лучше, чем без данного гиперпараметра;\n",
    "- модель \"Случайный лес\" показала результат на тестовой выборке по f1=0.64 и roc_auc=0.78. Результат по метрикам \"Случайный лес\" так же лучше результат, чем без применения гиперпараметра class_weight = 'balanced'(в модели без данного гиперпараметра f1=0.58 и roc_auc=0.71). \n",
    "\n",
    "При изменении порога модель \"Случайный лес\" показала лучший результат при пороге=0,42 f1=0.643 и roc_auc=0.799\n"
   ]
  },
  {
   "cell_type": "markdown",
   "metadata": {},
   "source": [
    "### Уменьшение выборки для борьбы с дисбалансом"
   ]
  },
  {
   "cell_type": "code",
   "execution_count": 41,
   "metadata": {},
   "outputs": [],
   "source": [
    "# Создадим функцию,которая принимает на вход : датафрейм признаков, целевые значения, долю\n",
    "# более многочисленного класса, что бы выборка стала сбалансированной\n",
    "# результат функции : уменьшена исходная выборка со сбалансированными классами: датафрейм признаков и целевые значения\n",
    "def downsample(features, target, fraction):\n",
    "    features_zeros = features[target == 0]\n",
    "    features_ones = features[target == 1]\n",
    "    target_zeros = target[target == 0]\n",
    "    target_ones = target[target == 1]\n",
    "    features_downsampled = pd.concat(\n",
    "        [features_zeros.sample(frac=fraction, random_state=12345)] + [features_ones])\n",
    "    target_downsampled = pd.concat(\n",
    "        [target_zeros.sample(frac=fraction, random_state=12345)] + [target_ones])    \n",
    "    features_downsampled, target_downsampled = shuffle(\n",
    "        features_downsampled, target_downsampled, random_state=12345)    \n",
    "    return features_downsampled, target_downsampled"
   ]
  },
  {
   "cell_type": "code",
   "execution_count": 42,
   "metadata": {},
   "outputs": [],
   "source": [
    "# признаки и целевое значение уменьшенной обучающей выборки\n",
    "features_downsampled, target_downsampled = downsample(features_train, target_train, 0.25)"
   ]
  },
  {
   "cell_type": "markdown",
   "metadata": {},
   "source": [
    "Далее обучим модели \"Логистическая регрессия\", \"Градиентный бустинг\" и \"Случайный лес\" на признаках уменьшенной обучающей выборки, и рассчитаем метрики f1 и roc_auc"
   ]
  },
  {
   "cell_type": "code",
   "execution_count": 43,
   "metadata": {},
   "outputs": [
    {
     "name": "stdout",
     "output_type": "stream",
     "text": [
      "F1: 0.5110073382254836\n",
      "ROC_auc: 0.7101067751064185\n"
     ]
    }
   ],
   "source": [
    "# Обучим модель \"Логистическая регрессия\" по уменьшенной сбалансированной выборке и посчитаем метрики на тестовой выборке\n",
    "model = LogisticRegression(random_state = 12345, solver = 'liblinear')\n",
    "model.fit(features_downsampled,target_downsampled)\n",
    "predicted_test = model.predict(features_test)\n",
    "print(\"F1:\", f1_score(target_test, predicted_test))\n",
    "print(\"ROC_auc:\", roc_auc_score(target_test, predicted_test))"
   ]
  },
  {
   "cell_type": "code",
   "execution_count": 44,
   "metadata": {},
   "outputs": [
    {
     "data": {
      "text/html": [
       "<style>#sk-container-id-4 {color: black;background-color: white;}#sk-container-id-4 pre{padding: 0;}#sk-container-id-4 div.sk-toggleable {background-color: white;}#sk-container-id-4 label.sk-toggleable__label {cursor: pointer;display: block;width: 100%;margin-bottom: 0;padding: 0.3em;box-sizing: border-box;text-align: center;}#sk-container-id-4 label.sk-toggleable__label-arrow:before {content: \"▸\";float: left;margin-right: 0.25em;color: #696969;}#sk-container-id-4 label.sk-toggleable__label-arrow:hover:before {color: black;}#sk-container-id-4 div.sk-estimator:hover label.sk-toggleable__label-arrow:before {color: black;}#sk-container-id-4 div.sk-toggleable__content {max-height: 0;max-width: 0;overflow: hidden;text-align: left;background-color: #f0f8ff;}#sk-container-id-4 div.sk-toggleable__content pre {margin: 0.2em;color: black;border-radius: 0.25em;background-color: #f0f8ff;}#sk-container-id-4 input.sk-toggleable__control:checked~div.sk-toggleable__content {max-height: 200px;max-width: 100%;overflow: auto;}#sk-container-id-4 input.sk-toggleable__control:checked~label.sk-toggleable__label-arrow:before {content: \"▾\";}#sk-container-id-4 div.sk-estimator input.sk-toggleable__control:checked~label.sk-toggleable__label {background-color: #d4ebff;}#sk-container-id-4 div.sk-label input.sk-toggleable__control:checked~label.sk-toggleable__label {background-color: #d4ebff;}#sk-container-id-4 input.sk-hidden--visually {border: 0;clip: rect(1px 1px 1px 1px);clip: rect(1px, 1px, 1px, 1px);height: 1px;margin: -1px;overflow: hidden;padding: 0;position: absolute;width: 1px;}#sk-container-id-4 div.sk-estimator {font-family: monospace;background-color: #f0f8ff;border: 1px dotted black;border-radius: 0.25em;box-sizing: border-box;margin-bottom: 0.5em;}#sk-container-id-4 div.sk-estimator:hover {background-color: #d4ebff;}#sk-container-id-4 div.sk-parallel-item::after {content: \"\";width: 100%;border-bottom: 1px solid gray;flex-grow: 1;}#sk-container-id-4 div.sk-label:hover label.sk-toggleable__label {background-color: #d4ebff;}#sk-container-id-4 div.sk-serial::before {content: \"\";position: absolute;border-left: 1px solid gray;box-sizing: border-box;top: 0;bottom: 0;left: 50%;z-index: 0;}#sk-container-id-4 div.sk-serial {display: flex;flex-direction: column;align-items: center;background-color: white;padding-right: 0.2em;padding-left: 0.2em;position: relative;}#sk-container-id-4 div.sk-item {position: relative;z-index: 1;}#sk-container-id-4 div.sk-parallel {display: flex;align-items: stretch;justify-content: center;background-color: white;position: relative;}#sk-container-id-4 div.sk-item::before, #sk-container-id-4 div.sk-parallel-item::before {content: \"\";position: absolute;border-left: 1px solid gray;box-sizing: border-box;top: 0;bottom: 0;left: 50%;z-index: -1;}#sk-container-id-4 div.sk-parallel-item {display: flex;flex-direction: column;z-index: 1;position: relative;background-color: white;}#sk-container-id-4 div.sk-parallel-item:first-child::after {align-self: flex-end;width: 50%;}#sk-container-id-4 div.sk-parallel-item:last-child::after {align-self: flex-start;width: 50%;}#sk-container-id-4 div.sk-parallel-item:only-child::after {width: 0;}#sk-container-id-4 div.sk-dashed-wrapped {border: 1px dashed gray;margin: 0 0.4em 0.5em 0.4em;box-sizing: border-box;padding-bottom: 0.4em;background-color: white;}#sk-container-id-4 div.sk-label label {font-family: monospace;font-weight: bold;display: inline-block;line-height: 1.2em;}#sk-container-id-4 div.sk-label-container {text-align: center;}#sk-container-id-4 div.sk-container {/* jupyter's `normalize.less` sets `[hidden] { display: none; }` but bootstrap.min.css set `[hidden] { display: none !important; }` so we also need the `!important` here to be able to override the default hidden behavior on the sphinx rendered scikit-learn.org. See: https://github.com/scikit-learn/scikit-learn/issues/21755 */display: inline-block !important;position: relative;}#sk-container-id-4 div.sk-text-repr-fallback {display: none;}</style><div id=\"sk-container-id-4\" class=\"sk-top-container\"><div class=\"sk-text-repr-fallback\"><pre>GridSearchCV(cv=5, estimator=RandomForestClassifier(random_state=12345),\n",
       "             param_grid={&#x27;criterion&#x27;: [&#x27;gini&#x27;, &#x27;entropy&#x27;],\n",
       "                         &#x27;max_depth&#x27;: [5, 10, 20],\n",
       "                         &#x27;n_estimators&#x27;: [25, 50, 100, 150]},\n",
       "             scoring=&#x27;f1&#x27;)</pre><b>In a Jupyter environment, please rerun this cell to show the HTML representation or trust the notebook. <br />On GitHub, the HTML representation is unable to render, please try loading this page with nbviewer.org.</b></div><div class=\"sk-container\" hidden><div class=\"sk-item sk-dashed-wrapped\"><div class=\"sk-label-container\"><div class=\"sk-label sk-toggleable\"><input class=\"sk-toggleable__control sk-hidden--visually\" id=\"sk-estimator-id-10\" type=\"checkbox\" ><label for=\"sk-estimator-id-10\" class=\"sk-toggleable__label sk-toggleable__label-arrow\">GridSearchCV</label><div class=\"sk-toggleable__content\"><pre>GridSearchCV(cv=5, estimator=RandomForestClassifier(random_state=12345),\n",
       "             param_grid={&#x27;criterion&#x27;: [&#x27;gini&#x27;, &#x27;entropy&#x27;],\n",
       "                         &#x27;max_depth&#x27;: [5, 10, 20],\n",
       "                         &#x27;n_estimators&#x27;: [25, 50, 100, 150]},\n",
       "             scoring=&#x27;f1&#x27;)</pre></div></div></div><div class=\"sk-parallel\"><div class=\"sk-parallel-item\"><div class=\"sk-item\"><div class=\"sk-label-container\"><div class=\"sk-label sk-toggleable\"><input class=\"sk-toggleable__control sk-hidden--visually\" id=\"sk-estimator-id-11\" type=\"checkbox\" ><label for=\"sk-estimator-id-11\" class=\"sk-toggleable__label sk-toggleable__label-arrow\">estimator: RandomForestClassifier</label><div class=\"sk-toggleable__content\"><pre>RandomForestClassifier(random_state=12345)</pre></div></div></div><div class=\"sk-serial\"><div class=\"sk-item\"><div class=\"sk-estimator sk-toggleable\"><input class=\"sk-toggleable__control sk-hidden--visually\" id=\"sk-estimator-id-12\" type=\"checkbox\" ><label for=\"sk-estimator-id-12\" class=\"sk-toggleable__label sk-toggleable__label-arrow\">RandomForestClassifier</label><div class=\"sk-toggleable__content\"><pre>RandomForestClassifier(random_state=12345)</pre></div></div></div></div></div></div></div></div></div></div>"
      ],
      "text/plain": [
       "GridSearchCV(cv=5, estimator=RandomForestClassifier(random_state=12345),\n",
       "             param_grid={'criterion': ['gini', 'entropy'],\n",
       "                         'max_depth': [5, 10, 20],\n",
       "                         'n_estimators': [25, 50, 100, 150]},\n",
       "             scoring='f1')"
      ]
     },
     "execution_count": 44,
     "metadata": {},
     "output_type": "execute_result"
    }
   ],
   "source": [
    "# Подберем оптимальные параметры для модели \"Случайный лес\" по уменьшенной сбалансированной выборке\n",
    "parameters = {\n",
    "    'n_estimators' : [25,50,100,150],\n",
    "    'criterion' : ['gini', 'entropy'],\n",
    "    'max_depth':[5,10,20],\n",
    "}\n",
    "\n",
    "rfc = RandomForestClassifier(random_state=12345)\n",
    "\n",
    "clf_rfc_downsampled = GridSearchCV(\n",
    "    estimator = rfc,\n",
    "    param_grid = parameters,\n",
    "    scoring = 'f1',\n",
    "    cv=5)\n",
    "\n",
    "clf_rfc_downsampled.fit(features_downsampled,target_downsampled)"
   ]
  },
  {
   "cell_type": "code",
   "execution_count": 45,
   "metadata": {},
   "outputs": [
    {
     "name": "stdout",
     "output_type": "stream",
     "text": [
      "F1: 0.6161764705882353\n",
      "ROC_auc: 0.7882808970060166\n"
     ]
    }
   ],
   "source": [
    "# Обучим модель \"Случайный лес\" с лучшими гиперпараметрами по уменьшенной сбалансированной выборке. \n",
    "\n",
    "model_rfc_downsampled = clf_rfc_downsampled.best_estimator_.fit(features_downsampled,target_downsampled)\n",
    "predicted_test = model_rfc_downsampled.predict(features_test)\n",
    "print(\"F1:\", f1_score(target_test, predicted_test))\n",
    "print(\"ROC_auc:\", roc_auc_score(target_test, predicted_test))"
   ]
  },
  {
   "cell_type": "code",
   "execution_count": 46,
   "metadata": {},
   "outputs": [
    {
     "data": {
      "text/html": [
       "<style>#sk-container-id-5 {color: black;background-color: white;}#sk-container-id-5 pre{padding: 0;}#sk-container-id-5 div.sk-toggleable {background-color: white;}#sk-container-id-5 label.sk-toggleable__label {cursor: pointer;display: block;width: 100%;margin-bottom: 0;padding: 0.3em;box-sizing: border-box;text-align: center;}#sk-container-id-5 label.sk-toggleable__label-arrow:before {content: \"▸\";float: left;margin-right: 0.25em;color: #696969;}#sk-container-id-5 label.sk-toggleable__label-arrow:hover:before {color: black;}#sk-container-id-5 div.sk-estimator:hover label.sk-toggleable__label-arrow:before {color: black;}#sk-container-id-5 div.sk-toggleable__content {max-height: 0;max-width: 0;overflow: hidden;text-align: left;background-color: #f0f8ff;}#sk-container-id-5 div.sk-toggleable__content pre {margin: 0.2em;color: black;border-radius: 0.25em;background-color: #f0f8ff;}#sk-container-id-5 input.sk-toggleable__control:checked~div.sk-toggleable__content {max-height: 200px;max-width: 100%;overflow: auto;}#sk-container-id-5 input.sk-toggleable__control:checked~label.sk-toggleable__label-arrow:before {content: \"▾\";}#sk-container-id-5 div.sk-estimator input.sk-toggleable__control:checked~label.sk-toggleable__label {background-color: #d4ebff;}#sk-container-id-5 div.sk-label input.sk-toggleable__control:checked~label.sk-toggleable__label {background-color: #d4ebff;}#sk-container-id-5 input.sk-hidden--visually {border: 0;clip: rect(1px 1px 1px 1px);clip: rect(1px, 1px, 1px, 1px);height: 1px;margin: -1px;overflow: hidden;padding: 0;position: absolute;width: 1px;}#sk-container-id-5 div.sk-estimator {font-family: monospace;background-color: #f0f8ff;border: 1px dotted black;border-radius: 0.25em;box-sizing: border-box;margin-bottom: 0.5em;}#sk-container-id-5 div.sk-estimator:hover {background-color: #d4ebff;}#sk-container-id-5 div.sk-parallel-item::after {content: \"\";width: 100%;border-bottom: 1px solid gray;flex-grow: 1;}#sk-container-id-5 div.sk-label:hover label.sk-toggleable__label {background-color: #d4ebff;}#sk-container-id-5 div.sk-serial::before {content: \"\";position: absolute;border-left: 1px solid gray;box-sizing: border-box;top: 0;bottom: 0;left: 50%;z-index: 0;}#sk-container-id-5 div.sk-serial {display: flex;flex-direction: column;align-items: center;background-color: white;padding-right: 0.2em;padding-left: 0.2em;position: relative;}#sk-container-id-5 div.sk-item {position: relative;z-index: 1;}#sk-container-id-5 div.sk-parallel {display: flex;align-items: stretch;justify-content: center;background-color: white;position: relative;}#sk-container-id-5 div.sk-item::before, #sk-container-id-5 div.sk-parallel-item::before {content: \"\";position: absolute;border-left: 1px solid gray;box-sizing: border-box;top: 0;bottom: 0;left: 50%;z-index: -1;}#sk-container-id-5 div.sk-parallel-item {display: flex;flex-direction: column;z-index: 1;position: relative;background-color: white;}#sk-container-id-5 div.sk-parallel-item:first-child::after {align-self: flex-end;width: 50%;}#sk-container-id-5 div.sk-parallel-item:last-child::after {align-self: flex-start;width: 50%;}#sk-container-id-5 div.sk-parallel-item:only-child::after {width: 0;}#sk-container-id-5 div.sk-dashed-wrapped {border: 1px dashed gray;margin: 0 0.4em 0.5em 0.4em;box-sizing: border-box;padding-bottom: 0.4em;background-color: white;}#sk-container-id-5 div.sk-label label {font-family: monospace;font-weight: bold;display: inline-block;line-height: 1.2em;}#sk-container-id-5 div.sk-label-container {text-align: center;}#sk-container-id-5 div.sk-container {/* jupyter's `normalize.less` sets `[hidden] { display: none; }` but bootstrap.min.css set `[hidden] { display: none !important; }` so we also need the `!important` here to be able to override the default hidden behavior on the sphinx rendered scikit-learn.org. See: https://github.com/scikit-learn/scikit-learn/issues/21755 */display: inline-block !important;position: relative;}#sk-container-id-5 div.sk-text-repr-fallback {display: none;}</style><div id=\"sk-container-id-5\" class=\"sk-top-container\"><div class=\"sk-text-repr-fallback\"><pre>GridSearchCV(cv=5, estimator=GradientBoostingClassifier(random_state=12345),\n",
       "             param_grid={&#x27;learning_rate&#x27;: [0.1, 0.01],\n",
       "                         &#x27;max_depth&#x27;: [3, 5, 10, 20],\n",
       "                         &#x27;n_estimators&#x27;: [50, 100, 150]},\n",
       "             scoring=&#x27;f1&#x27;)</pre><b>In a Jupyter environment, please rerun this cell to show the HTML representation or trust the notebook. <br />On GitHub, the HTML representation is unable to render, please try loading this page with nbviewer.org.</b></div><div class=\"sk-container\" hidden><div class=\"sk-item sk-dashed-wrapped\"><div class=\"sk-label-container\"><div class=\"sk-label sk-toggleable\"><input class=\"sk-toggleable__control sk-hidden--visually\" id=\"sk-estimator-id-13\" type=\"checkbox\" ><label for=\"sk-estimator-id-13\" class=\"sk-toggleable__label sk-toggleable__label-arrow\">GridSearchCV</label><div class=\"sk-toggleable__content\"><pre>GridSearchCV(cv=5, estimator=GradientBoostingClassifier(random_state=12345),\n",
       "             param_grid={&#x27;learning_rate&#x27;: [0.1, 0.01],\n",
       "                         &#x27;max_depth&#x27;: [3, 5, 10, 20],\n",
       "                         &#x27;n_estimators&#x27;: [50, 100, 150]},\n",
       "             scoring=&#x27;f1&#x27;)</pre></div></div></div><div class=\"sk-parallel\"><div class=\"sk-parallel-item\"><div class=\"sk-item\"><div class=\"sk-label-container\"><div class=\"sk-label sk-toggleable\"><input class=\"sk-toggleable__control sk-hidden--visually\" id=\"sk-estimator-id-14\" type=\"checkbox\" ><label for=\"sk-estimator-id-14\" class=\"sk-toggleable__label sk-toggleable__label-arrow\">estimator: GradientBoostingClassifier</label><div class=\"sk-toggleable__content\"><pre>GradientBoostingClassifier(random_state=12345)</pre></div></div></div><div class=\"sk-serial\"><div class=\"sk-item\"><div class=\"sk-estimator sk-toggleable\"><input class=\"sk-toggleable__control sk-hidden--visually\" id=\"sk-estimator-id-15\" type=\"checkbox\" ><label for=\"sk-estimator-id-15\" class=\"sk-toggleable__label sk-toggleable__label-arrow\">GradientBoostingClassifier</label><div class=\"sk-toggleable__content\"><pre>GradientBoostingClassifier(random_state=12345)</pre></div></div></div></div></div></div></div></div></div></div>"
      ],
      "text/plain": [
       "GridSearchCV(cv=5, estimator=GradientBoostingClassifier(random_state=12345),\n",
       "             param_grid={'learning_rate': [0.1, 0.01],\n",
       "                         'max_depth': [3, 5, 10, 20],\n",
       "                         'n_estimators': [50, 100, 150]},\n",
       "             scoring='f1')"
      ]
     },
     "execution_count": 46,
     "metadata": {},
     "output_type": "execute_result"
    }
   ],
   "source": [
    "# Подберем оптимальные параметры для модели \"Градиентный бустинг\" по уменьшенной сбалансированной выборке\n",
    "parameters = {\n",
    "    'learning_rate' : [0.1, 0.01],\n",
    "    'n_estimators' : [50, 100, 150],\n",
    "    'max_depth':[3,5,10,20],\n",
    "}\n",
    "\n",
    "gbc = GradientBoostingClassifier(random_state=12345)\n",
    "\n",
    "clf_gbc_downsampled = GridSearchCV(\n",
    "    estimator = gbc,\n",
    "    param_grid = parameters,\n",
    "    scoring = 'f1',\n",
    "    cv=5)\n",
    "    \n",
    "clf_gbc_downsampled.fit(features_downsampled,target_downsampled)"
   ]
  },
  {
   "cell_type": "code",
   "execution_count": 47,
   "metadata": {},
   "outputs": [
    {
     "name": "stdout",
     "output_type": "stream",
     "text": [
      "F1: 0.6207407407407407\n",
      "ROC_auc: 0.790825426268103\n"
     ]
    }
   ],
   "source": [
    "# Обучим модель \"Градиентный бустинг\" с лучшими гиперпараметрами по уменьшенной сбалансированной выборке. \n",
    "\n",
    "model_gbc_downsampled = clf_gbc_downsampled.best_estimator_.fit(features_downsampled,target_downsampled)\n",
    "predicted_test = model_gbc_downsampled.predict(features_test)\n",
    "print(\"F1:\", f1_score(target_test, predicted_test))\n",
    "print(\"ROC_auc:\", roc_auc_score(target_test, predicted_test))"
   ]
  },
  {
   "cell_type": "markdown",
   "metadata": {},
   "source": [
    "**Вывод**\n",
    "\n",
    "При уменьшении выборки для борьбы с дисбалансом классов:\n",
    "- метрики модели \"Логистическая регрессия\" составили f1=0.51 и roc_auc=0.71, данный результат полностью соответствует результатам, полученным при применении гиперпараметра class_weight = 'balanced' и при применении метода увеличения обучающей выборки для логистической регрессии;\n",
    "- метрики модели \"Случайный лес\" составили f1=0.61 и roc_auc=0.78, данный результат незначительно хуже по параметру f1 и лучше по параметру roc_auc, полученному при применении гиперпараметра class_weight = 'balanced' для случайного леса(0,64 и 0,78 соответственно);\n",
    "- метрики модели \"Градиентный бустинг\" обученный на уменьшенной выборке, показал на тестовых данных результат по f1=0.62 и roc_auc=0.79, что является лучшем результатом по модели \"Градиентный бустинг\"."
   ]
  },
  {
   "cell_type": "markdown",
   "metadata": {},
   "source": [
    "## Тестирование модели"
   ]
  },
  {
   "cell_type": "markdown",
   "metadata": {},
   "source": [
    "Создадим константную модель: любому объекту она прогнозирует класс «1»."
   ]
  },
  {
   "cell_type": "code",
   "execution_count": 48,
   "metadata": {},
   "outputs": [],
   "source": [
    "target_pred_constant =[int(i) for i in '1'*df_ohe['Exited'].shape[0]]"
   ]
  },
  {
   "cell_type": "code",
   "execution_count": 49,
   "metadata": {},
   "outputs": [
    {
     "name": "stdout",
     "output_type": "stream",
     "text": [
      "precision: 0.2037\n",
      "recall: 1.0\n",
      "F1: 0.3384564260197724\n",
      "ROC_auc: 0.5\n",
      "accuracy: 0.2037\n"
     ]
    }
   ],
   "source": [
    "print(\"precision:\", precision_score(target, target_pred_constant))\n",
    "print(\"recall:\", recall_score(target, target_pred_constant))\n",
    "print(\"F1:\", f1_score(target, target_pred_constant))\n",
    "print(\"ROC_auc:\", roc_auc_score(target, target_pred_constant))\n",
    "print(\"accuracy:\", accuracy_score(target, target_pred_constant))"
   ]
  },
  {
   "cell_type": "markdown",
   "metadata": {},
   "source": [
    "Лучшая модель, полученная для данного датафрейма - это модель \"Градиентный бустинг\", обученная на уменьшенной выборке. Отличные результаты показало изменение порога для модели \"Градиентный бустинг\" без учета дисбалансов классов: на тестовых данных при пороге 0,2 дает результат 0,627 и 0,788.\n",
    "При изменении порога модель \"Случайный лес\" с гиперпараметром class_weight = 'balanced'показала лучший результат на тесте при пороге равном 0,46 f1=0,644 и roc_auc=0,791.\n",
    "\n",
    "Рассчитаем данные метрики на всех данных и на тестовых данных для этих моделей."
   ]
  },
  {
   "cell_type": "code",
   "execution_count": 50,
   "metadata": {},
   "outputs": [],
   "source": [
    "features[numeric] = scaler.transform(features[numeric])"
   ]
  },
  {
   "cell_type": "code",
   "execution_count": 51,
   "metadata": {},
   "outputs": [
    {
     "data": {
      "text/html": [
       "<div>\n",
       "<style scoped>\n",
       "    .dataframe tbody tr th:only-of-type {\n",
       "        vertical-align: middle;\n",
       "    }\n",
       "\n",
       "    .dataframe tbody tr th {\n",
       "        vertical-align: top;\n",
       "    }\n",
       "\n",
       "    .dataframe thead th {\n",
       "        text-align: right;\n",
       "    }\n",
       "</style>\n",
       "<table border=\"1\" class=\"dataframe\">\n",
       "  <thead>\n",
       "    <tr style=\"text-align: right;\">\n",
       "      <th></th>\n",
       "      <th>precision</th>\n",
       "      <th>recall</th>\n",
       "      <th>f1</th>\n",
       "      <th>roc_auc</th>\n",
       "      <th>accuracy</th>\n",
       "    </tr>\n",
       "  </thead>\n",
       "  <tbody>\n",
       "    <tr>\n",
       "      <th>GBC downsampled</th>\n",
       "      <td>0.51</td>\n",
       "      <td>0.79</td>\n",
       "      <td>0.62</td>\n",
       "      <td>0.80</td>\n",
       "      <td>0.80</td>\n",
       "    </tr>\n",
       "    <tr>\n",
       "      <th>GBC downsampled_test</th>\n",
       "      <td>0.51</td>\n",
       "      <td>0.78</td>\n",
       "      <td>0.62</td>\n",
       "      <td>0.79</td>\n",
       "      <td>0.80</td>\n",
       "    </tr>\n",
       "    <tr>\n",
       "      <th>GBC threshold 0.2</th>\n",
       "      <td>0.59</td>\n",
       "      <td>0.84</td>\n",
       "      <td>0.69</td>\n",
       "      <td>0.84</td>\n",
       "      <td>0.85</td>\n",
       "    </tr>\n",
       "    <tr>\n",
       "      <th>GBC threshold 0.2_test</th>\n",
       "      <td>0.54</td>\n",
       "      <td>0.76</td>\n",
       "      <td>0.63</td>\n",
       "      <td>0.79</td>\n",
       "      <td>0.81</td>\n",
       "    </tr>\n",
       "  </tbody>\n",
       "</table>\n",
       "</div>"
      ],
      "text/plain": [
       "                        precision  recall   f1  roc_auc  accuracy\n",
       "GBC downsampled              0.51    0.79 0.62     0.80      0.80\n",
       "GBC downsampled_test         0.51    0.78 0.62     0.79      0.80\n",
       "GBC threshold 0.2            0.59    0.84 0.69     0.84      0.85\n",
       "GBC threshold 0.2_test       0.54    0.76 0.63     0.79      0.81"
      ]
     },
     "execution_count": 51,
     "metadata": {},
     "output_type": "execute_result"
    }
   ],
   "source": [
    "# Соберем полученные данные по моделям и метрикам в таблицу\n",
    "models = [model_gbc_downsampled, model_base_gbc]\n",
    "models_name = ['GBC downsampled', 'GBC downsampled_test','GBC threshold 0.2', 'GBC threshold 0.2_test']\n",
    "columns_name = ['precision', 'recall', 'f1', 'roc_auc', 'accuracy']\n",
    "metrics_name=[precision_score, recall_score, f1_score, roc_auc_score, accuracy_score]\n",
    "result=[]\n",
    "for i in models:\n",
    "  if i == model_base_gbc:\n",
    "    threshold = 0.2\n",
    "  else:\n",
    "    threshold = 0.5\n",
    "  res=[]\n",
    "  res_test=[]\n",
    "  for j in metrics_name:\n",
    "    res.append(j(target, i.predict_proba(features)[:, 1] > threshold))\n",
    "    res_test.append(j(target_test, i.predict_proba(features_test)[:, 1] > threshold))\n",
    "  result.append(res)\n",
    "  result.append(res_test)\n",
    "df_result=pd.DataFrame(result,index=models_name,columns=columns_name)\n",
    "df_result"
   ]
  },
  {
   "cell_type": "markdown",
   "metadata": {},
   "source": [
    "Модель \"Градиентный бустинг\" стабильно работает на полном датасете, и на тестовых данных метрики не сильно отличаются.\n",
    "Обе модели \"Градиентный бустинг\" показали на тесте примерно одинаковые результаты.\n"
   ]
  },
  {
   "cell_type": "markdown",
   "metadata": {},
   "source": [
    "**Вывод:** \n",
    "\n",
    "Лучшая модель - это модель \"Градиентный бустинг\". \n",
    "\n",
    "\"Градиентный бустинг\" обученный на несбалансированных данных с порогом 0.2 и модель \"Градиентный бустинг\" обученный на уменьшенной выборке дают хорошие результаты с метриками ~ f1=0,69 и roc_auc=0,85. \n"
   ]
  },
  {
   "cell_type": "markdown",
   "metadata": {},
   "source": [
    "**Общий вывод:**\n",
    "\n",
    "- Произведена предобработка данных;\n",
    "- Применили one hot encoding к датафрейму, избежав \"ловушку фиктивных признаков\";\n",
    "- В признаке Tenure обнаружено около 10% пропусков. Заменили медианой;\n",
    "- Проведён анализ моделей без учёта дисбаланса классов;\n",
    "- Исходные данные разделены на обучающую и тестовую выборки, в связи с применением GridSearchCV выделять валидационную выборку отдельно нет необходимости;\n",
    "- Обучены модели \"Случайный лес\", \"Логистическая Регрессия\" и \"Градиентный бустинг\" без учёта дисбаланса классов. Максимальное значение метрики f1 = 0.638 получено при изменении порога классификации модели \"Градиентный бустинг\" при пороге 0,2;\n",
    "- Качество моделей также оценено по метрике roc_auc. Максимальное значение метрики roc_auc = 0.798 достигнуто при обучении модели \"Градиентный бустинг\";\n",
    "- Проведён анализ дисбаланса классов;\n",
    "- Взвешивание классов с помощью параметра class_weight не дало значительного увеличения метрики f1;\n",
    "- Проведено тестирование полученных моделей на тестовой выборке.\n",
    "\n",
    "Значение метрики f1 на тестовой выборке:\n",
    "- метрики модели \"Градиентный бустинг\" обученный на уменьшенной выборке, показал на тестовых данных результат по f1=0.69 и roc_auc=0.85, что является лучшем результатом по модели \"Градиентный бустинг\"."
   ]
  }
 ],
 "metadata": {
  "ExecuteTimeLog": [
   {
    "duration": 49,
    "start_time": "2023-01-09T08:57:00.753Z"
   },
   {
    "duration": 1589,
    "start_time": "2023-01-09T08:57:34.217Z"
   },
   {
    "duration": 2,
    "start_time": "2023-01-09T08:57:35.809Z"
   },
   {
    "duration": 11,
    "start_time": "2023-01-09T08:57:35.813Z"
   },
   {
    "duration": 6,
    "start_time": "2023-01-09T08:57:35.826Z"
   },
   {
    "duration": 70,
    "start_time": "2023-01-09T08:57:35.833Z"
   },
   {
    "duration": 15,
    "start_time": "2023-01-09T08:57:35.904Z"
   },
   {
    "duration": 1405,
    "start_time": "2023-01-09T08:58:44.318Z"
   },
   {
    "duration": 3,
    "start_time": "2023-01-09T08:58:45.725Z"
   },
   {
    "duration": 9,
    "start_time": "2023-01-09T08:58:45.730Z"
   },
   {
    "duration": 8,
    "start_time": "2023-01-09T08:58:45.741Z"
   },
   {
    "duration": 39,
    "start_time": "2023-01-09T08:58:45.751Z"
   },
   {
    "duration": 18,
    "start_time": "2023-01-09T08:58:45.792Z"
   },
   {
    "duration": 13,
    "start_time": "2023-01-09T08:59:47.708Z"
   },
   {
    "duration": 4,
    "start_time": "2023-01-09T09:15:41.351Z"
   },
   {
    "duration": 7,
    "start_time": "2023-01-09T09:16:08.856Z"
   },
   {
    "duration": 9,
    "start_time": "2023-01-09T09:37:36.829Z"
   },
   {
    "duration": 1399,
    "start_time": "2023-01-09T09:39:08.859Z"
   },
   {
    "duration": 2,
    "start_time": "2023-01-09T09:39:10.260Z"
   },
   {
    "duration": 6,
    "start_time": "2023-01-09T09:39:10.264Z"
   },
   {
    "duration": 6,
    "start_time": "2023-01-09T09:39:10.272Z"
   },
   {
    "duration": 42,
    "start_time": "2023-01-09T09:39:10.280Z"
   },
   {
    "duration": 15,
    "start_time": "2023-01-09T09:39:10.323Z"
   },
   {
    "duration": 19,
    "start_time": "2023-01-09T09:39:10.340Z"
   },
   {
    "duration": 4,
    "start_time": "2023-01-09T09:39:10.361Z"
   },
   {
    "duration": 7,
    "start_time": "2023-01-09T09:39:10.366Z"
   },
   {
    "duration": 11,
    "start_time": "2023-01-09T09:39:10.375Z"
   },
   {
    "duration": 48,
    "start_time": "2023-01-09T11:20:12.294Z"
   },
   {
    "duration": 0,
    "start_time": "2023-01-09T11:22:51.071Z"
   },
   {
    "duration": 6,
    "start_time": "2023-01-09T11:22:53.358Z"
   },
   {
    "duration": 5,
    "start_time": "2023-01-09T11:22:53.365Z"
   },
   {
    "duration": 5,
    "start_time": "2023-01-09T11:22:53.372Z"
   },
   {
    "duration": 5,
    "start_time": "2023-01-09T11:22:53.379Z"
   },
   {
    "duration": 25,
    "start_time": "2023-01-09T11:22:53.386Z"
   },
   {
    "duration": 12,
    "start_time": "2023-01-09T11:22:53.412Z"
   },
   {
    "duration": 12,
    "start_time": "2023-01-09T11:22:53.455Z"
   },
   {
    "duration": 4,
    "start_time": "2023-01-09T11:22:53.469Z"
   },
   {
    "duration": 7,
    "start_time": "2023-01-09T11:22:53.474Z"
   },
   {
    "duration": 10,
    "start_time": "2023-01-09T11:22:53.483Z"
   },
   {
    "duration": 6,
    "start_time": "2023-01-09T11:22:53.494Z"
   },
   {
    "duration": 9,
    "start_time": "2023-01-09T11:22:53.502Z"
   },
   {
    "duration": 43,
    "start_time": "2023-01-09T11:22:53.513Z"
   },
   {
    "duration": 882,
    "start_time": "2023-01-09T11:28:31.028Z"
   },
   {
    "duration": 81,
    "start_time": "2023-01-09T11:29:00.324Z"
   },
   {
    "duration": 5,
    "start_time": "2023-01-09T11:29:13.669Z"
   },
   {
    "duration": 16,
    "start_time": "2023-01-09T11:29:17.202Z"
   },
   {
    "duration": 9,
    "start_time": "2023-01-09T11:29:45.713Z"
   },
   {
    "duration": 5,
    "start_time": "2023-01-09T11:29:58.126Z"
   },
   {
    "duration": 142,
    "start_time": "2023-01-09T11:30:19.868Z"
   },
   {
    "duration": 5,
    "start_time": "2023-01-09T11:31:02.877Z"
   },
   {
    "duration": 132,
    "start_time": "2023-01-09T11:31:15.918Z"
   },
   {
    "duration": 8,
    "start_time": "2023-01-09T11:31:51.221Z"
   },
   {
    "duration": 3,
    "start_time": "2023-01-09T11:32:12.812Z"
   },
   {
    "duration": 19,
    "start_time": "2023-01-09T11:32:28.371Z"
   },
   {
    "duration": 3,
    "start_time": "2023-01-09T11:33:06.824Z"
   },
   {
    "duration": 126,
    "start_time": "2023-01-09T11:33:10.385Z"
   },
   {
    "duration": 233,
    "start_time": "2023-01-09T11:33:28.890Z"
   },
   {
    "duration": 1362,
    "start_time": "2023-01-09T11:34:16.496Z"
   },
   {
    "duration": 3,
    "start_time": "2023-01-09T11:34:17.860Z"
   },
   {
    "duration": 11,
    "start_time": "2023-01-09T11:34:17.864Z"
   },
   {
    "duration": 6,
    "start_time": "2023-01-09T11:34:17.876Z"
   },
   {
    "duration": 32,
    "start_time": "2023-01-09T11:34:17.885Z"
   },
   {
    "duration": 15,
    "start_time": "2023-01-09T11:34:17.919Z"
   },
   {
    "duration": 22,
    "start_time": "2023-01-09T11:34:17.936Z"
   },
   {
    "duration": 4,
    "start_time": "2023-01-09T11:34:17.959Z"
   },
   {
    "duration": 7,
    "start_time": "2023-01-09T11:34:17.964Z"
   },
   {
    "duration": 10,
    "start_time": "2023-01-09T11:34:17.972Z"
   },
   {
    "duration": 6,
    "start_time": "2023-01-09T11:34:17.984Z"
   },
   {
    "duration": 11,
    "start_time": "2023-01-09T11:34:17.992Z"
   },
   {
    "duration": 8,
    "start_time": "2023-01-09T11:34:18.005Z"
   },
   {
    "duration": 46,
    "start_time": "2023-01-09T11:34:18.015Z"
   },
   {
    "duration": 8,
    "start_time": "2023-01-09T11:34:18.063Z"
   },
   {
    "duration": 5,
    "start_time": "2023-01-09T11:34:18.073Z"
   },
   {
    "duration": 164,
    "start_time": "2023-01-09T11:34:18.080Z"
   },
   {
    "duration": 10,
    "start_time": "2023-01-09T11:34:18.246Z"
   },
   {
    "duration": 138,
    "start_time": "2023-01-09T11:34:18.258Z"
   },
   {
    "duration": 7,
    "start_time": "2023-01-09T11:34:18.398Z"
   },
   {
    "duration": 14,
    "start_time": "2023-01-09T11:34:18.407Z"
   },
   {
    "duration": 65,
    "start_time": "2023-01-09T11:34:18.422Z"
   },
   {
    "duration": 312,
    "start_time": "2023-01-09T11:34:18.489Z"
   },
   {
    "duration": 3282,
    "start_time": "2023-01-09T11:35:32.860Z"
   },
   {
    "duration": 26,
    "start_time": "2023-01-09T11:36:44.881Z"
   },
   {
    "duration": 3,
    "start_time": "2023-01-09T11:37:02.140Z"
   },
   {
    "duration": 5,
    "start_time": "2023-01-09T11:37:11.959Z"
   },
   {
    "duration": 6,
    "start_time": "2023-01-09T11:37:22.876Z"
   },
   {
    "duration": 31,
    "start_time": "2023-01-09T11:37:36.257Z"
   },
   {
    "duration": 7,
    "start_time": "2023-01-09T11:37:47.086Z"
   },
   {
    "duration": 98,
    "start_time": "2023-01-09T11:38:40.358Z"
   },
   {
    "duration": 65316,
    "start_time": "2023-01-09T11:38:58.314Z"
   },
   {
    "duration": 498,
    "start_time": "2023-01-09T11:40:13.977Z"
   },
   {
    "duration": 1520,
    "start_time": "2023-01-09T11:41:20.603Z"
   },
   {
    "duration": 2,
    "start_time": "2023-01-09T11:41:22.126Z"
   },
   {
    "duration": 13,
    "start_time": "2023-01-09T11:41:22.130Z"
   },
   {
    "duration": 17,
    "start_time": "2023-01-09T11:41:22.144Z"
   },
   {
    "duration": 42,
    "start_time": "2023-01-09T11:41:22.168Z"
   },
   {
    "duration": 15,
    "start_time": "2023-01-09T11:41:22.212Z"
   },
   {
    "duration": 13,
    "start_time": "2023-01-09T11:41:22.229Z"
   },
   {
    "duration": 11,
    "start_time": "2023-01-09T11:41:22.244Z"
   },
   {
    "duration": 16,
    "start_time": "2023-01-09T11:41:22.258Z"
   },
   {
    "duration": 15,
    "start_time": "2023-01-09T11:41:22.276Z"
   },
   {
    "duration": 6,
    "start_time": "2023-01-09T11:41:22.292Z"
   },
   {
    "duration": 11,
    "start_time": "2023-01-09T11:41:22.299Z"
   },
   {
    "duration": 6,
    "start_time": "2023-01-09T11:41:22.312Z"
   },
   {
    "duration": 35,
    "start_time": "2023-01-09T11:41:22.321Z"
   },
   {
    "duration": 13,
    "start_time": "2023-01-09T11:41:22.359Z"
   },
   {
    "duration": 8,
    "start_time": "2023-01-09T11:41:22.374Z"
   },
   {
    "duration": 160,
    "start_time": "2023-01-09T11:41:22.384Z"
   },
   {
    "duration": 12,
    "start_time": "2023-01-09T11:41:22.546Z"
   },
   {
    "duration": 125,
    "start_time": "2023-01-09T11:41:22.560Z"
   },
   {
    "duration": 6,
    "start_time": "2023-01-09T11:41:22.687Z"
   },
   {
    "duration": 3,
    "start_time": "2023-01-09T11:41:22.694Z"
   },
   {
    "duration": 62,
    "start_time": "2023-01-09T11:41:22.698Z"
   },
   {
    "duration": 333,
    "start_time": "2023-01-09T11:41:22.762Z"
   },
   {
    "duration": 2990,
    "start_time": "2023-01-09T11:41:23.096Z"
   },
   {
    "duration": 27,
    "start_time": "2023-01-09T11:41:26.088Z"
   },
   {
    "duration": 3,
    "start_time": "2023-01-09T11:41:26.116Z"
   },
   {
    "duration": 7,
    "start_time": "2023-01-09T11:41:26.120Z"
   },
   {
    "duration": 8,
    "start_time": "2023-01-09T11:41:26.128Z"
   },
   {
    "duration": 25,
    "start_time": "2023-01-09T11:41:26.138Z"
   },
   {
    "duration": 10,
    "start_time": "2023-01-09T11:41:26.165Z"
   },
   {
    "duration": 83,
    "start_time": "2023-01-09T11:41:26.177Z"
   },
   {
    "duration": 62389,
    "start_time": "2023-01-09T11:41:26.262Z"
   },
   {
    "duration": 255,
    "start_time": "2023-01-09T11:42:28.653Z"
   },
   {
    "duration": 369427,
    "start_time": "2023-01-09T11:42:28.910Z"
   },
   {
    "duration": 1768,
    "start_time": "2023-01-09T11:48:38.339Z"
   },
   {
    "duration": 321,
    "start_time": "2023-01-09T11:48:40.110Z"
   },
   {
    "duration": 195,
    "start_time": "2023-01-09T11:48:40.433Z"
   },
   {
    "duration": 128,
    "start_time": "2023-01-09T11:51:14.023Z"
   },
   {
    "duration": 5,
    "start_time": "2023-01-09T11:53:11.799Z"
   },
   {
    "duration": 6,
    "start_time": "2023-01-09T11:53:14.412Z"
   },
   {
    "duration": 37,
    "start_time": "2023-01-09T11:53:18.126Z"
   },
   {
    "duration": 439,
    "start_time": "2023-01-09T11:53:20.886Z"
   },
   {
    "duration": 67456,
    "start_time": "2023-01-09T11:53:24.977Z"
   },
   {
    "duration": 1370,
    "start_time": "2023-01-09T11:54:36.849Z"
   },
   {
    "duration": 383,
    "start_time": "2023-01-09T11:54:40.244Z"
   },
   {
    "duration": 6,
    "start_time": "2023-01-09T11:54:44.779Z"
   },
   {
    "duration": 10,
    "start_time": "2023-01-09T11:54:47.643Z"
   },
   {
    "duration": 104,
    "start_time": "2023-01-09T11:57:00.654Z"
   },
   {
    "duration": 101558,
    "start_time": "2023-01-09T11:57:02.679Z"
   },
   {
    "duration": 1434,
    "start_time": "2023-01-09T12:01:38.150Z"
   },
   {
    "duration": 523961,
    "start_time": "2023-01-09T12:01:41.685Z"
   },
   {
    "duration": 8624,
    "start_time": "2023-01-09T12:10:25.648Z"
   },
   {
    "duration": 7,
    "start_time": "2023-01-09T12:10:34.274Z"
   },
   {
    "duration": 14,
    "start_time": "2023-01-09T12:10:34.284Z"
   },
   {
    "duration": 82,
    "start_time": "2023-01-09T12:10:34.299Z"
   },
   {
    "duration": 37243,
    "start_time": "2023-01-09T12:10:34.454Z"
   },
   {
    "duration": 448,
    "start_time": "2023-01-09T12:11:11.698Z"
   },
   {
    "duration": 173318,
    "start_time": "2023-01-09T12:11:12.148Z"
   },
   {
    "duration": 499,
    "start_time": "2023-01-09T12:14:05.469Z"
   },
   {
    "duration": 13,
    "start_time": "2023-01-09T13:52:05.374Z"
   },
   {
    "duration": 1702,
    "start_time": "2023-01-09T13:52:46.319Z"
   },
   {
    "duration": 3,
    "start_time": "2023-01-09T13:52:48.024Z"
   },
   {
    "duration": 11,
    "start_time": "2023-01-09T13:52:48.030Z"
   },
   {
    "duration": 13,
    "start_time": "2023-01-09T13:52:48.044Z"
   },
   {
    "duration": 166,
    "start_time": "2023-01-09T13:52:48.063Z"
   },
   {
    "duration": 15,
    "start_time": "2023-01-09T13:52:48.230Z"
   },
   {
    "duration": 13,
    "start_time": "2023-01-09T13:52:48.247Z"
   },
   {
    "duration": 9,
    "start_time": "2023-01-09T13:52:48.261Z"
   },
   {
    "duration": 12,
    "start_time": "2023-01-09T13:52:48.271Z"
   },
   {
    "duration": 115,
    "start_time": "2023-01-09T13:52:48.284Z"
   },
   {
    "duration": 0,
    "start_time": "2023-01-09T13:52:48.403Z"
   },
   {
    "duration": 0,
    "start_time": "2023-01-09T13:52:48.404Z"
   },
   {
    "duration": 0,
    "start_time": "2023-01-09T13:52:48.405Z"
   },
   {
    "duration": 0,
    "start_time": "2023-01-09T13:52:48.406Z"
   },
   {
    "duration": 0,
    "start_time": "2023-01-09T13:52:48.408Z"
   },
   {
    "duration": 0,
    "start_time": "2023-01-09T13:52:48.409Z"
   },
   {
    "duration": 0,
    "start_time": "2023-01-09T13:52:48.410Z"
   },
   {
    "duration": 0,
    "start_time": "2023-01-09T13:52:48.411Z"
   },
   {
    "duration": 0,
    "start_time": "2023-01-09T13:52:48.412Z"
   },
   {
    "duration": 0,
    "start_time": "2023-01-09T13:52:48.413Z"
   },
   {
    "duration": 0,
    "start_time": "2023-01-09T13:52:48.414Z"
   },
   {
    "duration": 0,
    "start_time": "2023-01-09T13:52:48.415Z"
   },
   {
    "duration": 0,
    "start_time": "2023-01-09T13:52:48.416Z"
   },
   {
    "duration": 0,
    "start_time": "2023-01-09T13:52:48.417Z"
   },
   {
    "duration": 0,
    "start_time": "2023-01-09T13:52:48.418Z"
   },
   {
    "duration": 0,
    "start_time": "2023-01-09T13:52:48.419Z"
   },
   {
    "duration": 0,
    "start_time": "2023-01-09T13:52:48.420Z"
   },
   {
    "duration": 0,
    "start_time": "2023-01-09T13:52:48.421Z"
   },
   {
    "duration": 0,
    "start_time": "2023-01-09T13:52:48.422Z"
   },
   {
    "duration": 0,
    "start_time": "2023-01-09T13:52:48.423Z"
   },
   {
    "duration": 0,
    "start_time": "2023-01-09T13:52:48.424Z"
   },
   {
    "duration": 0,
    "start_time": "2023-01-09T13:52:48.425Z"
   },
   {
    "duration": 0,
    "start_time": "2023-01-09T13:52:48.427Z"
   },
   {
    "duration": 0,
    "start_time": "2023-01-09T13:52:48.428Z"
   },
   {
    "duration": 0,
    "start_time": "2023-01-09T13:52:48.429Z"
   },
   {
    "duration": 0,
    "start_time": "2023-01-09T13:52:48.431Z"
   },
   {
    "duration": 0,
    "start_time": "2023-01-09T13:52:48.432Z"
   },
   {
    "duration": 0,
    "start_time": "2023-01-09T13:52:48.478Z"
   },
   {
    "duration": 0,
    "start_time": "2023-01-09T13:52:48.480Z"
   },
   {
    "duration": 0,
    "start_time": "2023-01-09T13:52:48.481Z"
   },
   {
    "duration": 0,
    "start_time": "2023-01-09T13:52:48.483Z"
   },
   {
    "duration": 0,
    "start_time": "2023-01-09T13:52:48.484Z"
   },
   {
    "duration": 0,
    "start_time": "2023-01-09T13:52:48.485Z"
   },
   {
    "duration": 0,
    "start_time": "2023-01-09T13:52:48.487Z"
   },
   {
    "duration": 0,
    "start_time": "2023-01-09T13:52:48.488Z"
   },
   {
    "duration": 0,
    "start_time": "2023-01-09T13:52:48.489Z"
   },
   {
    "duration": 0,
    "start_time": "2023-01-09T13:52:48.490Z"
   },
   {
    "duration": 0,
    "start_time": "2023-01-09T13:52:48.492Z"
   },
   {
    "duration": 0,
    "start_time": "2023-01-09T13:52:48.493Z"
   },
   {
    "duration": 0,
    "start_time": "2023-01-09T13:52:48.494Z"
   },
   {
    "duration": 0,
    "start_time": "2023-01-09T13:52:48.495Z"
   },
   {
    "duration": 0,
    "start_time": "2023-01-09T13:52:48.497Z"
   },
   {
    "duration": 0,
    "start_time": "2023-01-09T13:52:48.498Z"
   },
   {
    "duration": 1478,
    "start_time": "2023-01-09T13:54:00.854Z"
   },
   {
    "duration": 3,
    "start_time": "2023-01-09T13:54:02.334Z"
   },
   {
    "duration": 38,
    "start_time": "2023-01-09T13:54:02.338Z"
   },
   {
    "duration": 54,
    "start_time": "2023-01-09T13:54:02.379Z"
   },
   {
    "duration": 87,
    "start_time": "2023-01-09T13:54:02.436Z"
   },
   {
    "duration": 16,
    "start_time": "2023-01-09T13:54:02.527Z"
   },
   {
    "duration": 60,
    "start_time": "2023-01-09T13:54:02.544Z"
   },
   {
    "duration": 44,
    "start_time": "2023-01-09T13:54:02.606Z"
   },
   {
    "duration": 43,
    "start_time": "2023-01-09T13:54:02.652Z"
   },
   {
    "duration": 35,
    "start_time": "2023-01-09T13:54:02.699Z"
   },
   {
    "duration": 52,
    "start_time": "2023-01-09T13:54:02.737Z"
   },
   {
    "duration": 66,
    "start_time": "2023-01-09T13:54:02.791Z"
   },
   {
    "duration": 24,
    "start_time": "2023-01-09T13:54:02.859Z"
   },
   {
    "duration": 193,
    "start_time": "2023-01-09T13:54:02.885Z"
   },
   {
    "duration": 8,
    "start_time": "2023-01-09T13:54:03.081Z"
   },
   {
    "duration": 185,
    "start_time": "2023-01-09T13:54:03.091Z"
   },
   {
    "duration": 9,
    "start_time": "2023-01-09T13:54:03.277Z"
   },
   {
    "duration": 13,
    "start_time": "2023-01-09T13:54:03.288Z"
   },
   {
    "duration": 89,
    "start_time": "2023-01-09T13:54:03.303Z"
   },
   {
    "duration": 28,
    "start_time": "2023-01-09T13:54:03.394Z"
   },
   {
    "duration": 30,
    "start_time": "2023-01-09T13:54:03.424Z"
   },
   {
    "duration": 31,
    "start_time": "2023-01-09T13:54:03.456Z"
   },
   {
    "duration": 27,
    "start_time": "2023-01-09T13:54:03.490Z"
   },
   {
    "duration": 64,
    "start_time": "2023-01-09T13:54:03.519Z"
   },
   {
    "duration": 33,
    "start_time": "2023-01-09T13:54:03.585Z"
   },
   {
    "duration": 164,
    "start_time": "2023-01-09T13:54:03.621Z"
   },
   {
    "duration": 57944,
    "start_time": "2023-01-09T13:54:03.787Z"
   },
   {
    "duration": 296,
    "start_time": "2023-01-09T13:55:01.737Z"
   },
   {
    "duration": 312048,
    "start_time": "2023-01-09T13:55:02.036Z"
   },
   {
    "duration": 1365,
    "start_time": "2023-01-09T14:00:14.086Z"
   },
   {
    "duration": 366,
    "start_time": "2023-01-09T14:00:15.453Z"
   },
   {
    "duration": 178,
    "start_time": "2023-01-09T14:00:15.821Z"
   },
   {
    "duration": 6,
    "start_time": "2023-01-09T14:00:16.001Z"
   },
   {
    "duration": 91,
    "start_time": "2023-01-09T14:00:16.009Z"
   },
   {
    "duration": 79,
    "start_time": "2023-01-09T14:00:16.102Z"
   },
   {
    "duration": 506,
    "start_time": "2023-01-09T14:00:16.188Z"
   },
   {
    "duration": 56888,
    "start_time": "2023-01-09T14:00:16.695Z"
   },
   {
    "duration": 1078,
    "start_time": "2023-01-09T14:01:13.585Z"
   },
   {
    "duration": 296,
    "start_time": "2023-01-09T14:01:14.665Z"
   },
   {
    "duration": 5,
    "start_time": "2023-01-09T14:01:14.962Z"
   },
   {
    "duration": 26,
    "start_time": "2023-01-09T14:01:14.968Z"
   },
   {
    "duration": 98,
    "start_time": "2023-01-09T14:01:14.997Z"
   },
   {
    "duration": 81832,
    "start_time": "2023-01-09T14:01:15.098Z"
   },
   {
    "duration": 1717,
    "start_time": "2023-01-09T14:02:36.932Z"
   },
   {
    "duration": 435358,
    "start_time": "2023-01-09T14:02:38.651Z"
   },
   {
    "duration": 7160,
    "start_time": "2023-01-09T14:09:54.011Z"
   },
   {
    "duration": 7,
    "start_time": "2023-01-09T14:10:01.172Z"
   },
   {
    "duration": 32,
    "start_time": "2023-01-09T14:10:01.180Z"
   },
   {
    "duration": 164,
    "start_time": "2023-01-09T14:10:01.214Z"
   },
   {
    "duration": 30779,
    "start_time": "2023-01-09T14:10:01.381Z"
   },
   {
    "duration": 542,
    "start_time": "2023-01-09T14:10:32.161Z"
   },
   {
    "duration": 143095,
    "start_time": "2023-01-09T14:10:32.704Z"
   },
   {
    "duration": 598,
    "start_time": "2023-01-09T14:12:55.801Z"
   },
   {
    "duration": 45,
    "start_time": "2023-01-09T18:57:01.833Z"
   },
   {
    "duration": 1499,
    "start_time": "2023-01-09T18:57:07.627Z"
   },
   {
    "duration": 3,
    "start_time": "2023-01-09T18:57:09.128Z"
   },
   {
    "duration": 9,
    "start_time": "2023-01-09T18:57:09.132Z"
   },
   {
    "duration": 5,
    "start_time": "2023-01-09T18:57:09.143Z"
   },
   {
    "duration": 101,
    "start_time": "2023-01-09T18:57:09.149Z"
   },
   {
    "duration": 14,
    "start_time": "2023-01-09T18:57:09.252Z"
   },
   {
    "duration": 17,
    "start_time": "2023-01-09T18:57:09.268Z"
   },
   {
    "duration": 3,
    "start_time": "2023-01-09T18:57:09.287Z"
   },
   {
    "duration": 21,
    "start_time": "2023-01-09T18:57:09.291Z"
   },
   {
    "duration": 9,
    "start_time": "2023-01-09T18:57:09.314Z"
   },
   {
    "duration": 17,
    "start_time": "2023-01-09T18:57:09.325Z"
   },
   {
    "duration": 22,
    "start_time": "2023-01-09T18:57:09.344Z"
   },
   {
    "duration": 5,
    "start_time": "2023-01-09T18:57:09.367Z"
   },
   {
    "duration": 126,
    "start_time": "2023-01-09T18:57:09.373Z"
   },
   {
    "duration": 5,
    "start_time": "2023-01-09T18:57:09.502Z"
   },
   {
    "duration": 122,
    "start_time": "2023-01-09T18:57:09.508Z"
   },
   {
    "duration": 7,
    "start_time": "2023-01-09T18:57:09.632Z"
   },
   {
    "duration": 13,
    "start_time": "2023-01-09T18:57:09.641Z"
   },
   {
    "duration": 60,
    "start_time": "2023-01-09T18:57:09.655Z"
   },
   {
    "duration": 24,
    "start_time": "2023-01-09T18:57:09.716Z"
   },
   {
    "duration": 2,
    "start_time": "2023-01-09T18:57:09.742Z"
   },
   {
    "duration": 9,
    "start_time": "2023-01-09T18:57:09.745Z"
   },
   {
    "duration": 11,
    "start_time": "2023-01-09T18:57:09.755Z"
   },
   {
    "duration": 33,
    "start_time": "2023-01-09T18:57:09.767Z"
   },
   {
    "duration": 7,
    "start_time": "2023-01-09T18:57:09.801Z"
   },
   {
    "duration": 190,
    "start_time": "2023-01-09T18:57:09.810Z"
   },
   {
    "duration": 53194,
    "start_time": "2023-01-09T18:57:10.003Z"
   },
   {
    "duration": 211,
    "start_time": "2023-01-09T18:58:03.202Z"
   },
   {
    "duration": 294692,
    "start_time": "2023-01-09T18:58:03.415Z"
   },
   {
    "duration": 866,
    "start_time": "2023-01-09T19:02:58.109Z"
   },
   {
    "duration": 348,
    "start_time": "2023-01-09T19:02:58.976Z"
   },
   {
    "duration": 155,
    "start_time": "2023-01-09T19:02:59.326Z"
   },
   {
    "duration": 16,
    "start_time": "2023-01-09T19:02:59.482Z"
   },
   {
    "duration": 8,
    "start_time": "2023-01-09T19:02:59.499Z"
   },
   {
    "duration": 89,
    "start_time": "2023-01-09T19:02:59.509Z"
   },
   {
    "duration": 511,
    "start_time": "2023-01-09T19:02:59.599Z"
   },
   {
    "duration": 53273,
    "start_time": "2023-01-09T19:03:00.112Z"
   },
   {
    "duration": 1079,
    "start_time": "2023-01-09T19:03:53.387Z"
   },
   {
    "duration": 345,
    "start_time": "2023-01-09T19:03:54.467Z"
   },
   {
    "duration": 4,
    "start_time": "2023-01-09T19:03:54.814Z"
   },
   {
    "duration": 15,
    "start_time": "2023-01-09T19:03:54.820Z"
   },
   {
    "duration": 161,
    "start_time": "2023-01-09T19:03:54.837Z"
   },
   {
    "duration": 76344,
    "start_time": "2023-01-09T19:03:55.000Z"
   },
   {
    "duration": 1726,
    "start_time": "2023-01-09T19:05:11.346Z"
   },
   {
    "duration": 413666,
    "start_time": "2023-01-09T19:05:13.073Z"
   },
   {
    "duration": 6801,
    "start_time": "2023-01-09T19:12:06.740Z"
   },
   {
    "duration": 4,
    "start_time": "2023-01-09T19:12:13.543Z"
   },
   {
    "duration": 21,
    "start_time": "2023-01-09T19:12:13.548Z"
   },
   {
    "duration": 27,
    "start_time": "2023-01-09T19:12:13.572Z"
   },
   {
    "duration": 28962,
    "start_time": "2023-01-09T19:12:13.602Z"
   },
   {
    "duration": 534,
    "start_time": "2023-01-09T19:12:42.567Z"
   },
   {
    "duration": 135729,
    "start_time": "2023-01-09T19:12:43.103Z"
   },
   {
    "duration": 406,
    "start_time": "2023-01-09T19:14:58.834Z"
   },
   {
    "duration": 3,
    "start_time": "2023-01-09T19:14:59.242Z"
   },
   {
    "duration": 37,
    "start_time": "2023-01-09T19:14:59.247Z"
   },
   {
    "duration": 0,
    "start_time": "2023-01-09T19:14:59.408Z"
   },
   {
    "duration": 1,
    "start_time": "2023-01-09T19:14:59.409Z"
   },
   {
    "duration": 0,
    "start_time": "2023-01-09T19:14:59.411Z"
   },
   {
    "duration": 0,
    "start_time": "2023-01-09T19:14:59.411Z"
   },
   {
    "duration": 0,
    "start_time": "2023-01-09T19:14:59.412Z"
   },
   {
    "duration": 16,
    "start_time": "2023-01-09T19:15:11.598Z"
   },
   {
    "duration": 1500,
    "start_time": "2023-01-09T19:15:12.215Z"
   },
   {
    "duration": 246,
    "start_time": "2023-01-09T19:15:17.026Z"
   },
   {
    "duration": 396,
    "start_time": "2023-01-09T19:15:22.555Z"
   },
   {
    "duration": 5014,
    "start_time": "2023-01-09T19:15:24.602Z"
   },
   {
    "duration": 1756,
    "start_time": "2023-01-10T10:47:12.690Z"
   },
   {
    "duration": 3,
    "start_time": "2023-01-10T10:47:14.448Z"
   },
   {
    "duration": 7,
    "start_time": "2023-01-10T10:47:14.452Z"
   },
   {
    "duration": 6,
    "start_time": "2023-01-10T10:47:14.461Z"
   },
   {
    "duration": 172,
    "start_time": "2023-01-10T10:47:14.468Z"
   },
   {
    "duration": 14,
    "start_time": "2023-01-10T10:47:14.642Z"
   },
   {
    "duration": 15,
    "start_time": "2023-01-10T10:47:14.657Z"
   },
   {
    "duration": 3,
    "start_time": "2023-01-10T10:47:14.674Z"
   },
   {
    "duration": 10,
    "start_time": "2023-01-10T10:47:14.679Z"
   },
   {
    "duration": 6,
    "start_time": "2023-01-10T10:47:14.691Z"
   },
   {
    "duration": 13,
    "start_time": "2023-01-10T10:47:14.698Z"
   },
   {
    "duration": 17,
    "start_time": "2023-01-10T10:47:14.712Z"
   },
   {
    "duration": 4,
    "start_time": "2023-01-10T10:47:14.730Z"
   },
   {
    "duration": 134,
    "start_time": "2023-01-10T10:47:14.736Z"
   },
   {
    "duration": 9,
    "start_time": "2023-01-10T10:47:14.872Z"
   },
   {
    "duration": 129,
    "start_time": "2023-01-10T10:47:14.883Z"
   },
   {
    "duration": 7,
    "start_time": "2023-01-10T10:47:15.014Z"
   },
   {
    "duration": 21,
    "start_time": "2023-01-10T10:47:15.022Z"
   },
   {
    "duration": 61,
    "start_time": "2023-01-10T10:47:15.045Z"
   },
   {
    "duration": 30,
    "start_time": "2023-01-10T10:47:15.108Z"
   },
   {
    "duration": 3,
    "start_time": "2023-01-10T10:47:15.140Z"
   },
   {
    "duration": 22,
    "start_time": "2023-01-10T10:47:15.145Z"
   },
   {
    "duration": 9,
    "start_time": "2023-01-10T10:47:15.169Z"
   },
   {
    "duration": 25,
    "start_time": "2023-01-10T10:47:15.180Z"
   },
   {
    "duration": 7,
    "start_time": "2023-01-10T10:47:15.206Z"
   },
   {
    "duration": 168,
    "start_time": "2023-01-10T10:47:15.214Z"
   },
   {
    "duration": 55091,
    "start_time": "2023-01-10T10:47:15.384Z"
   },
   {
    "duration": 851,
    "start_time": "2023-01-10T10:48:10.480Z"
   },
   {
    "duration": 1402,
    "start_time": "2023-01-10T10:50:59.233Z"
   },
   {
    "duration": 3,
    "start_time": "2023-01-10T10:51:00.637Z"
   },
   {
    "duration": 21,
    "start_time": "2023-01-10T10:51:00.642Z"
   },
   {
    "duration": 23,
    "start_time": "2023-01-10T10:51:00.665Z"
   },
   {
    "duration": 53,
    "start_time": "2023-01-10T10:51:00.690Z"
   },
   {
    "duration": 14,
    "start_time": "2023-01-10T10:51:00.745Z"
   },
   {
    "duration": 28,
    "start_time": "2023-01-10T10:51:00.760Z"
   },
   {
    "duration": 22,
    "start_time": "2023-01-10T10:51:00.790Z"
   },
   {
    "duration": 19,
    "start_time": "2023-01-10T10:51:00.814Z"
   },
   {
    "duration": 19,
    "start_time": "2023-01-10T10:51:00.836Z"
   },
   {
    "duration": 22,
    "start_time": "2023-01-10T10:51:00.857Z"
   },
   {
    "duration": 24,
    "start_time": "2023-01-10T10:51:00.881Z"
   },
   {
    "duration": 26,
    "start_time": "2023-01-10T10:51:00.906Z"
   },
   {
    "duration": 164,
    "start_time": "2023-01-10T10:51:00.934Z"
   },
   {
    "duration": 4,
    "start_time": "2023-01-10T10:51:01.100Z"
   },
   {
    "duration": 37,
    "start_time": "2023-01-10T10:51:01.106Z"
   },
   {
    "duration": 156,
    "start_time": "2023-01-10T10:51:01.145Z"
   },
   {
    "duration": 7,
    "start_time": "2023-01-10T10:51:01.303Z"
   },
   {
    "duration": 32,
    "start_time": "2023-01-10T10:51:01.311Z"
   },
   {
    "duration": 85,
    "start_time": "2023-01-10T10:51:01.345Z"
   },
   {
    "duration": 38,
    "start_time": "2023-01-10T10:51:01.431Z"
   },
   {
    "duration": 37,
    "start_time": "2023-01-10T10:51:01.471Z"
   },
   {
    "duration": 39,
    "start_time": "2023-01-10T10:51:01.510Z"
   },
   {
    "duration": 36,
    "start_time": "2023-01-10T10:51:01.550Z"
   },
   {
    "duration": 47,
    "start_time": "2023-01-10T10:51:01.587Z"
   },
   {
    "duration": 7,
    "start_time": "2023-01-10T10:51:01.636Z"
   },
   {
    "duration": 137,
    "start_time": "2023-01-10T10:51:01.644Z"
   },
   {
    "duration": 57043,
    "start_time": "2023-01-10T10:51:01.787Z"
   },
   {
    "duration": 845,
    "start_time": "2023-01-10T10:51:58.832Z"
   },
   {
    "duration": 307973,
    "start_time": "2023-01-10T10:51:59.679Z"
   },
   {
    "duration": 1378,
    "start_time": "2023-01-10T10:57:07.654Z"
   },
   {
    "duration": 371,
    "start_time": "2023-01-10T10:57:09.033Z"
   },
   {
    "duration": 152,
    "start_time": "2023-01-10T10:57:09.406Z"
   },
   {
    "duration": 20,
    "start_time": "2023-01-10T10:57:09.560Z"
   },
   {
    "duration": 5,
    "start_time": "2023-01-10T10:57:09.582Z"
   },
   {
    "duration": 92,
    "start_time": "2023-01-10T10:57:09.588Z"
   },
   {
    "duration": 518,
    "start_time": "2023-01-10T10:57:09.682Z"
   },
   {
    "duration": 55398,
    "start_time": "2023-01-10T10:57:10.202Z"
   },
   {
    "duration": 669,
    "start_time": "2023-01-10T10:58:05.602Z"
   },
   {
    "duration": 280,
    "start_time": "2023-01-10T10:58:06.279Z"
   },
   {
    "duration": 4,
    "start_time": "2023-01-10T10:58:06.561Z"
   },
   {
    "duration": 36,
    "start_time": "2023-01-10T10:58:06.578Z"
   },
   {
    "duration": 70,
    "start_time": "2023-01-10T10:58:06.616Z"
   },
   {
    "duration": 78917,
    "start_time": "2023-01-10T10:58:06.689Z"
   },
   {
    "duration": 620,
    "start_time": "2023-01-10T10:59:25.608Z"
   },
   {
    "duration": 454632,
    "start_time": "2023-01-10T10:59:26.230Z"
   },
   {
    "duration": 7888,
    "start_time": "2023-01-10T11:07:00.863Z"
   },
   {
    "duration": 4,
    "start_time": "2023-01-10T11:07:08.753Z"
   },
   {
    "duration": 21,
    "start_time": "2023-01-10T11:07:08.759Z"
   },
   {
    "duration": 32,
    "start_time": "2023-01-10T11:07:08.782Z"
   },
   {
    "duration": 32734,
    "start_time": "2023-01-10T11:07:08.886Z"
   },
   {
    "duration": 657,
    "start_time": "2023-01-10T11:07:41.622Z"
   },
   {
    "duration": 150708,
    "start_time": "2023-01-10T11:07:42.282Z"
   },
   {
    "duration": 429,
    "start_time": "2023-01-10T11:10:12.993Z"
   },
   {
    "duration": 3,
    "start_time": "2023-01-10T11:10:13.424Z"
   },
   {
    "duration": 30,
    "start_time": "2023-01-10T11:10:13.429Z"
   },
   {
    "duration": 24,
    "start_time": "2023-01-10T11:10:13.460Z"
   },
   {
    "duration": 1329,
    "start_time": "2023-01-10T11:10:13.486Z"
   },
   {
    "duration": 252,
    "start_time": "2023-01-10T11:10:14.816Z"
   },
   {
    "duration": 522,
    "start_time": "2023-01-10T11:10:15.069Z"
   },
   {
    "duration": 438,
    "start_time": "2023-01-10T11:19:55.881Z"
   },
   {
    "duration": 318,
    "start_time": "2023-01-10T11:24:09.173Z"
   },
   {
    "duration": 2,
    "start_time": "2023-01-10T11:33:10.653Z"
   },
   {
    "duration": 3,
    "start_time": "2023-01-10T11:33:13.922Z"
   },
   {
    "duration": 1439,
    "start_time": "2023-01-10T11:36:56.123Z"
   },
   {
    "duration": 3,
    "start_time": "2023-01-10T11:36:57.564Z"
   },
   {
    "duration": 7,
    "start_time": "2023-01-10T11:36:57.568Z"
   },
   {
    "duration": 7,
    "start_time": "2023-01-10T11:36:57.577Z"
   },
   {
    "duration": 44,
    "start_time": "2023-01-10T11:36:57.587Z"
   },
   {
    "duration": 14,
    "start_time": "2023-01-10T11:36:57.632Z"
   },
   {
    "duration": 13,
    "start_time": "2023-01-10T11:36:57.647Z"
   },
   {
    "duration": 3,
    "start_time": "2023-01-10T11:36:57.662Z"
   },
   {
    "duration": 10,
    "start_time": "2023-01-10T11:36:57.667Z"
   },
   {
    "duration": 8,
    "start_time": "2023-01-10T11:36:57.680Z"
   },
   {
    "duration": 15,
    "start_time": "2023-01-10T11:36:57.690Z"
   },
   {
    "duration": 22,
    "start_time": "2023-01-10T11:36:57.707Z"
   },
   {
    "duration": 7,
    "start_time": "2023-01-10T11:36:57.731Z"
   },
   {
    "duration": 130,
    "start_time": "2023-01-10T11:36:57.739Z"
   },
   {
    "duration": 5,
    "start_time": "2023-01-10T11:36:57.877Z"
   },
   {
    "duration": 9,
    "start_time": "2023-01-10T11:36:57.883Z"
   },
   {
    "duration": 138,
    "start_time": "2023-01-10T11:36:57.894Z"
   },
   {
    "duration": 7,
    "start_time": "2023-01-10T11:36:58.034Z"
   },
   {
    "duration": 7,
    "start_time": "2023-01-10T11:36:58.043Z"
   },
   {
    "duration": 69,
    "start_time": "2023-01-10T11:36:58.051Z"
   },
   {
    "duration": 27,
    "start_time": "2023-01-10T11:36:58.122Z"
   },
   {
    "duration": 7,
    "start_time": "2023-01-10T11:36:58.151Z"
   },
   {
    "duration": 25,
    "start_time": "2023-01-10T11:36:58.160Z"
   },
   {
    "duration": 9,
    "start_time": "2023-01-10T11:36:58.187Z"
   },
   {
    "duration": 60,
    "start_time": "2023-01-10T11:36:58.198Z"
   },
   {
    "duration": 9,
    "start_time": "2023-01-10T11:36:58.259Z"
   },
   {
    "duration": 219,
    "start_time": "2023-01-10T11:36:58.270Z"
   },
   {
    "duration": 56664,
    "start_time": "2023-01-10T11:36:58.579Z"
   },
   {
    "duration": 882,
    "start_time": "2023-01-10T11:37:55.245Z"
   },
   {
    "duration": 306984,
    "start_time": "2023-01-10T11:37:56.129Z"
   },
   {
    "duration": 1449,
    "start_time": "2023-01-10T11:43:03.115Z"
   },
   {
    "duration": 346,
    "start_time": "2023-01-10T11:43:04.565Z"
   },
   {
    "duration": 176,
    "start_time": "2023-01-10T11:43:04.913Z"
   },
   {
    "duration": 5,
    "start_time": "2023-01-10T11:43:05.091Z"
   },
   {
    "duration": 9,
    "start_time": "2023-01-10T11:43:05.097Z"
   },
   {
    "duration": 76,
    "start_time": "2023-01-10T11:43:05.108Z"
   },
   {
    "duration": 524,
    "start_time": "2023-01-10T11:43:05.186Z"
   },
   {
    "duration": 55614,
    "start_time": "2023-01-10T11:43:05.711Z"
   },
   {
    "duration": 706,
    "start_time": "2023-01-10T11:44:01.327Z"
   },
   {
    "duration": 301,
    "start_time": "2023-01-10T11:44:02.034Z"
   },
   {
    "duration": 5,
    "start_time": "2023-01-10T11:44:02.336Z"
   },
   {
    "duration": 15,
    "start_time": "2023-01-10T11:44:02.342Z"
   },
   {
    "duration": 48,
    "start_time": "2023-01-10T11:44:02.359Z"
   },
   {
    "duration": 77696,
    "start_time": "2023-01-10T11:44:02.409Z"
   },
   {
    "duration": 602,
    "start_time": "2023-01-10T11:45:20.107Z"
   },
   {
    "duration": 430291,
    "start_time": "2023-01-10T11:45:20.711Z"
   },
   {
    "duration": 7553,
    "start_time": "2023-01-10T11:52:31.005Z"
   },
   {
    "duration": 5,
    "start_time": "2023-01-10T11:52:38.560Z"
   },
   {
    "duration": 19,
    "start_time": "2023-01-10T11:52:38.567Z"
   },
   {
    "duration": 194,
    "start_time": "2023-01-10T11:52:38.588Z"
   },
   {
    "duration": 30105,
    "start_time": "2023-01-10T11:52:38.785Z"
   },
   {
    "duration": 611,
    "start_time": "2023-01-10T11:53:08.891Z"
   },
   {
    "duration": 141612,
    "start_time": "2023-01-10T11:53:09.504Z"
   },
   {
    "duration": 408,
    "start_time": "2023-01-10T11:55:31.118Z"
   },
   {
    "duration": 4,
    "start_time": "2023-01-10T11:55:31.527Z"
   },
   {
    "duration": 83,
    "start_time": "2023-01-10T11:55:31.533Z"
   },
   {
    "duration": 15,
    "start_time": "2023-01-10T11:55:31.617Z"
   },
   {
    "duration": 350,
    "start_time": "2023-01-10T11:55:31.634Z"
   },
   {
    "duration": 3,
    "start_time": "2023-01-10T11:55:31.986Z"
   },
   {
    "duration": 18,
    "start_time": "2023-01-10T11:55:31.991Z"
   }
  ],
  "kernelspec": {
   "display_name": "Python 3 (ipykernel)",
   "language": "python",
   "name": "python3"
  },
  "language_info": {
   "codemirror_mode": {
    "name": "ipython",
    "version": 3
   },
   "file_extension": ".py",
   "mimetype": "text/x-python",
   "name": "python",
   "nbconvert_exporter": "python",
   "pygments_lexer": "ipython3",
   "version": "3.9.12"
  },
  "toc": {
   "base_numbering": 1,
   "nav_menu": {},
   "number_sections": true,
   "sideBar": true,
   "skip_h1_title": true,
   "title_cell": "Содержание",
   "title_sidebar": "Contents",
   "toc_cell": true,
   "toc_position": {
    "height": "calc(100% - 180px)",
    "left": "10px",
    "top": "150px",
    "width": "236.188px"
   },
   "toc_section_display": true,
   "toc_window_display": false
  }
 },
 "nbformat": 4,
 "nbformat_minor": 2
}
